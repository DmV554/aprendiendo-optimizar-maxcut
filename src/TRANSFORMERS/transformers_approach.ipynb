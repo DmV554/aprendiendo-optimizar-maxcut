{
 "cells": [
  {
   "cell_type": "code",
   "execution_count": 1,
   "id": "139197b78e0e6c2e",
   "metadata": {
    "ExecuteTime": {
     "end_time": "2025-05-13T08:11:06.521338Z",
     "start_time": "2025-05-13T08:11:06.517625Z"
    }
   },
   "outputs": [],
   "source": [
    "import random\n",
    "from copy import deepcopy\n",
    "from MAXCUT import MaxCutInstance, MaxCutState, MaxCutEnvironment, generate_random_instance\n",
    "from Agents import (\n",
    "        ILS,\n",
    "        FirstImprovementAgent,\n",
    "        SingleAgentSolver,\n",
    "        Perturbation,\n",
    "    )"
   ]
  },
  {
   "cell_type": "code",
   "execution_count": 2,
   "id": "2241151c4658a1eb",
   "metadata": {
    "ExecuteTime": {
     "end_time": "2025-05-13T08:11:06.533627Z",
     "start_time": "2025-05-13T08:11:06.531552Z"
    }
   },
   "outputs": [],
   "source": [
    "# --- Constantes ---\n",
    "NEW_FEATURE_DIM = 11"
   ]
  },
  {
   "cell_type": "code",
   "execution_count": 3,
   "id": "c014f7783c8c15c",
   "metadata": {
    "ExecuteTime": {
     "end_time": "2025-05-13T08:11:06.588538Z",
     "start_time": "2025-05-13T08:11:06.585134Z"
    }
   },
   "outputs": [],
   "source": [
    "# --- Funciones Auxiliares ---\n",
    "\n",
    "def calculate_static_features(instance):\n",
    "    \"\"\"Calcula características que no cambian durante la descomposición.\"\"\"\n",
    "    num_nodes = instance.num_nodes\n",
    "    weights_matrix = instance.weights_matrix\n",
    "    # Grado (número de vecinos con peso != 0)\n",
    "    degrees = np.sum(weights_matrix != 0, axis=1)\n",
    "    # Suma de pesos incidentes (puede ser negativo si hay pesos negativos)\n",
    "    sum_incident_weights = np.sum(weights_matrix, axis=1)\n",
    "    # Suma total de pesos únicos en el grafo\n",
    "    total_weight_sum = np.sum(np.triu(weights_matrix, k=1)) # Suma triangular superior para evitar duplicar\n",
    "    return degrees, sum_incident_weights, total_weight_sum\n",
    "\n",
    "# calculate_dynamic_features no necesita cambiar, ya devuelve los sum_to_...\n",
    "def calculate_dynamic_features(v_idx, current_partition, instance):\n",
    "    \"\"\"Calcula características que dependen de la partición actual.\"\"\"\n",
    "    weights_matrix = instance.weights_matrix\n",
    "    num_nodes = instance.num_nodes\n",
    "    sum_to_v1 = 0.0 # Suma pesos a nodos en partición 1\n",
    "    sum_to_v2 = 0.0 # Suma pesos a nodos en partición 0\n",
    "    sum_to_unassigned = 0.0\n",
    "\n",
    "    for j_idx in range(num_nodes):\n",
    "        if v_idx == j_idx: continue\n",
    "\n",
    "        weight = weights_matrix[v_idx, j_idx]\n",
    "        if weight == 0: continue\n",
    "\n",
    "        assignment = current_partition[j_idx]\n",
    "        if assignment == 1:\n",
    "            sum_to_v1 += weight\n",
    "        elif assignment == 0:\n",
    "            sum_to_v2 += weight\n",
    "        elif assignment == -1:\n",
    "            sum_to_unassigned += weight\n",
    "\n",
    "    return sum_to_v1, sum_to_v2, sum_to_unassigned"
   ]
  },
  {
   "cell_type": "code",
   "execution_count": 4,
   "id": "c7fe13ae63b56b09",
   "metadata": {
    "ExecuteTime": {
     "end_time": "2025-05-13T08:11:06.643977Z",
     "start_time": "2025-05-13T08:11:06.636122Z"
    }
   },
   "outputs": [],
   "source": [
    "# --- Función Principal de Generación de Datos ---\n",
    "\n",
    "def generate_raw_maxcut_data(num_samples, num_nodes, ils_solver,\n",
    "                             density=0.8, min_weight=-1, max_weight=1,\n",
    "                             vertex_order_shuffle_seed=None):\n",
    "    \"\"\"\n",
    "    Genera datos de entrenamiento (X, Y) CRUDOS (sin normalizar)\n",
    "    para un modelo atencional de Max-Cut, con features mejoradas.\n",
    "\n",
    "    Returns:\n",
    "    tuple: (np.array(X_data_raw), np.array(Y_data))\n",
    "           X_data_raw: Array CRUDO de shape (num_samples_generated, num_nodes, NEW_FEATURE_DIM)\n",
    "           Y_data: Array de shape (num_samples_generated, 2) (one-hot encoded)\n",
    "    \"\"\"\n",
    "    X_data_raw = [] # Almacenará datos crudos\n",
    "    Y_data = []\n",
    "\n",
    "    num_instances_needed = math.ceil(num_samples / num_nodes)\n",
    "    print(f\"Necesitando generar y resolver {num_instances_needed} instancias para ~{num_samples} muestras...\")\n",
    "\n",
    "    for _ in tqdm(range(num_instances_needed), desc=\"Generando Instancias y Soluciones\"):\n",
    "        weights_matrix = generate_random_instance(num_nodes, density=density, min_weight=min_weight, max_weight=max_weight)\n",
    "        instance = MaxCutInstance(weights_matrix)\n",
    "        n_nodes_actual = instance.num_nodes\n",
    "\n",
    "        # Resolver usando ILS (sin cambios aquí)\n",
    "        initial_partition_ils = [random.choice([0, 1]) for _ in range(n_nodes_actual)]\n",
    "        initial_state_ils = MaxCutState(instance, partition=initial_partition_ils)\n",
    "        quality_solution_state = ils_solver.solve(initial_state_ils)\n",
    "        quality_partition = quality_solution_state.partition\n",
    "\n",
    "        current_partition_decomp = [-1] * n_nodes_actual\n",
    "        vertex_order = list(range(n_nodes_actual))\n",
    "        if vertex_order_shuffle_seed is not None:\n",
    "            random.Random(vertex_order_shuffle_seed).shuffle(vertex_order)\n",
    "            vertex_order_shuffle_seed += 1\n",
    "\n",
    "        # Precalcular features estáticas (sin cambios aquí)\n",
    "        degrees, sum_incident_weights, _ = calculate_static_features(instance) # Ya no necesitamos total_weight_sum aquí\n",
    "\n",
    "        # Generar N tuplas (X, Y) para esta instancia\n",
    "        for k in range(n_nodes_actual):\n",
    "            vk_idx = vertex_order[k]\n",
    "\n",
    "            # --- d.1. Transformar a muestra X CRUDA ---\n",
    "            step_X_raw_features = np.zeros((n_nodes_actual, NEW_FEATURE_DIM)) # Usar nueva dimensión\n",
    "\n",
    "            for i_node in range(n_nodes_actual):\n",
    "                # Calcular features dinámicas\n",
    "                sum_to_v1, sum_to_v2, sum_to_unassigned = calculate_dynamic_features(\n",
    "                    i_node, current_partition_decomp, instance\n",
    "                )\n",
    "\n",
    "                # --- Ensamblar NUEVO vector de características ---\n",
    "                assign_state = current_partition_decomp[i_node]\n",
    "                # One-Hot Encoding para AssignState\n",
    "                assign_is_unassigned = 1.0 if assign_state == -1 else 0.0\n",
    "                assign_is_v2 = 1.0 if assign_state == 0 else 0.0  # V2/Partición 0\n",
    "                assign_is_v1 = 1.0 if assign_state == 1 else 0.0  # V1/Partición 1\n",
    "\n",
    "                # Feature: IsDecision\n",
    "                is_decision_node = 1.0 if i_node == vk_idx else 0.0\n",
    "\n",
    "                # Feature: Contribución al Corte Local (Ganancia si va a V1)\n",
    "                local_cut_gain_v1 = sum_to_v2 - sum_to_v1\n",
    "\n",
    "                # Orden de Features (Importante ser consistente):\n",
    "                # 0: Identificador (Node ID)\n",
    "                # 1: AssignState: Is Unassigned (One-Hot)\n",
    "                # 2: AssignState: Is V2/P0 (One-Hot)\n",
    "                # 3: AssignState: Is V1/P1 (One-Hot)\n",
    "                # 4: IsDecision Flag\n",
    "                # 5: Degree\n",
    "                # 6: Suma Pesos Incidentes\n",
    "                # 7: Suma Pesos a V1\n",
    "                # 8: Suma Pesos a V2\n",
    "                # 9: Suma Pesos a No Asignados\n",
    "                # 10: Contribución Corte Local (Ganancia si va a V1)\n",
    "                # Total = 11 features = NEW_FEATURE_DIM\n",
    "                features_raw = [\n",
    "                    float(i_node),\n",
    "                    assign_is_unassigned,\n",
    "                    assign_is_v2,\n",
    "                    assign_is_v1,\n",
    "                    is_decision_node,\n",
    "                    float(degrees[i_node]),\n",
    "                    sum_incident_weights[i_node],\n",
    "                    sum_to_v1,\n",
    "                    sum_to_v2,\n",
    "                    sum_to_unassigned,\n",
    "                    local_cut_gain_v1\n",
    "                ]\n",
    "\n",
    "                # --- NO SE NORMALIZA AQUÍ ---\n",
    "                step_X_raw_features[i_node, :] = features_raw\n",
    "\n",
    "            X_data_raw.append(step_X_raw_features)\n",
    "\n",
    "            # --- d.2. Transformar a muestra Y (sin cambios aquí) ---\n",
    "            target_assignment = quality_partition[vk_idx]\n",
    "            step_Y = [1.0, 0.0] if target_assignment == 1 else [0.0, 1.0]\n",
    "            Y_data.append(step_Y)\n",
    "\n",
    "            # Actualizar estado (sin cambios aquí)\n",
    "            current_partition_decomp[vk_idx] = target_assignment\n",
    "\n",
    "            if len(X_data_raw) >= num_samples: break\n",
    "        if len(X_data_raw) >= num_samples: break\n",
    "\n",
    "    print(f\"Generadas {len(X_data_raw)} muestras CRUDAS.\")\n",
    "\n",
    "    if not X_data_raw:\n",
    "        return np.array([]), np.array([])\n",
    "\n",
    "    # Devolver datos crudos y etiquetas Y\n",
    "    return np.array(X_data_raw, dtype=np.float32), np.array(Y_data, dtype=np.float32)\n",
    "\n",
    "\n",
    "\n",
    "def standardize_data(X_data_raw):\n",
    "    \"\"\"\n",
    "    Aplica estandarización (Z-score) a los datos crudos X.\n",
    "\n",
    "    Parameters:\n",
    "    X_data_raw (np.array): Datos crudos con forma (n_samples, n_nodes, n_features)\n",
    "\n",
    "    Returns:\n",
    "    tuple: (X_data_standardized, normalization_params)\n",
    "           X_data_standardized (np.array): Datos normalizados.\n",
    "           normalization_params (dict): Diccionario con 'means' y 'stds' por feature.\n",
    "    \"\"\"\n",
    "    if X_data_raw.size == 0:\n",
    "        return X_data_raw, {'means': None, 'stds': None}\n",
    "\n",
    "    n_samples, n_nodes, n_features = X_data_raw.shape\n",
    "    print(f\"Estandarizando datos X crudos con forma: {X_data_raw.shape}\")\n",
    "\n",
    "    # Remodelar para calcular estadísticas por columna de feature fácilmente\n",
    "    # Convertimos (samples, N, features) -> (samples * N, features)\n",
    "    X_flat = X_data_raw.reshape(-1, n_features)\n",
    "\n",
    "    # Calcular media y desviación estándar para CADA feature\n",
    "    feature_means = np.mean(X_flat, axis=0)\n",
    "    feature_stds = np.std(X_flat, axis=0)\n",
    "\n",
    "    # Añadir epsilon para evitar división por cero si alguna feature es constante\n",
    "    epsilon = 1e-8\n",
    "    feature_stds_safe = feature_stds + epsilon\n",
    "\n",
    "    # Aplicar estandarización: (valor - media) / std_dev\n",
    "    X_flat_std = (X_flat - feature_means) / feature_stds_safe\n",
    "\n",
    "    # Remodelar de vuelta a la forma original (samples, N, features)\n",
    "    X_data_standardized = X_flat_std.reshape(n_samples, n_nodes, n_features)\n",
    "\n",
    "    print(\"Estandarización completada.\")\n",
    "\n",
    "    # Guardar parámetros para usarlos en inferencia\n",
    "    normalization_params = {'means': feature_means, 'stds': feature_stds_safe}\n",
    "\n",
    "    return X_data_standardized, normalization_params\n",
    "\n"
   ]
  },
  {
   "cell_type": "code",
   "execution_count": 5,
   "id": "abdccddda42b97fb",
   "metadata": {
    "ExecuteTime": {
     "end_time": "2025-05-13T08:11:06.919062Z",
     "start_time": "2025-05-13T08:11:06.686475Z"
    }
   },
   "outputs": [
    {
     "name": "stdout",
     "output_type": "stream",
     "text": [
      "Modelo modificado con Positional Encoding creado.\n",
      "Input dim esperada: 11\n",
      "MaxCutAttentionModel(\n",
      "  (input_projection): Linear(in_features=11, out_features=128, bias=True)\n",
      "  (pos_encoder): PositionalEncoding(\n",
      "    (dropout): Dropout(p=0.1, inplace=False)\n",
      "  )\n",
      "  (transformer_encoder): TransformerEncoder(\n",
      "    (layers): ModuleList(\n",
      "      (0-3): 4 x TransformerEncoderLayer(\n",
      "        (self_attn): MultiheadAttention(\n",
      "          (out_proj): NonDynamicallyQuantizableLinear(in_features=128, out_features=128, bias=True)\n",
      "        )\n",
      "        (linear1): Linear(in_features=128, out_features=512, bias=True)\n",
      "        (dropout): Dropout(p=0.1, inplace=False)\n",
      "        (linear2): Linear(in_features=512, out_features=128, bias=True)\n",
      "        (norm1): LayerNorm((128,), eps=1e-05, elementwise_affine=True)\n",
      "        (norm2): LayerNorm((128,), eps=1e-05, elementwise_affine=True)\n",
      "        (dropout1): Dropout(p=0.1, inplace=False)\n",
      "        (dropout2): Dropout(p=0.1, inplace=False)\n",
      "      )\n",
      "    )\n",
      "  )\n",
      "  (output_layer): Sequential(\n",
      "    (0): Linear(in_features=128, out_features=64, bias=True)\n",
      "    (1): ReLU()\n",
      "    (2): Dropout(p=0.1, inplace=False)\n",
      "    (3): Linear(in_features=64, out_features=2, bias=True)\n",
      "  )\n",
      ")\n"
     ]
    }
   ],
   "source": [
    "import torch\n",
    "import torch.nn as nn\n",
    "import torch.nn.functional as F\n",
    "import math\n",
    "import numpy as np # Necesario para np.array dentro del modelo si se usa\n",
    "\n",
    "# --- Constante (Asegúrate que coincida con la generación de datos) ---\n",
    "# Importada o definida globalmente en tu script\n",
    "# FEATURE_DIM = 11 # La NUEVA dimensión después de los cambios en features\n",
    "\n",
    "# --- Clase para Codificación Posicional Sinusoidal ---\n",
    "#     (Implementación estándar de PyTorch Tutorials)\n",
    "class PositionalEncoding(nn.Module):\n",
    "    def __init__(self, d_model: int, dropout: float = 0.1, max_len: int = 500):\n",
    "        \"\"\"\n",
    "        Args:\n",
    "            d_model (int): Dimensión del embedding (embed_dim en tu modelo).\n",
    "            dropout (float): Tasa de dropout.\n",
    "            max_len (int): Longitud máxima de secuencia esperada.\n",
    "        \"\"\"\n",
    "        super().__init__()\n",
    "        self.dropout = nn.Dropout(p=dropout)\n",
    "\n",
    "        # Crear matriz de posición (max_len, d_model)\n",
    "        position = torch.arange(max_len).unsqueeze(1) # Shape: (max_len, 1)\n",
    "        div_term = torch.exp(torch.arange(0, d_model, 2) * (-math.log(10000.0) / d_model)) # Shape: (d_model/2)\n",
    "\n",
    "        pe = torch.zeros(max_len, d_model)\n",
    "        # Aplicar sin a índices pares, cos a impares\n",
    "        pe[:, 0::2] = torch.sin(position * div_term)\n",
    "        pe[:, 1::2] = torch.cos(position * div_term)\n",
    "\n",
    "        # Añadir una dimensión de batch al principio para broadcasting: (1, max_len, d_model)\n",
    "        pe = pe.unsqueeze(0)\n",
    "\n",
    "        # Registrar 'pe' como buffer, no como parámetro aprendible\n",
    "        self.register_buffer('pe', pe)\n",
    "\n",
    "    def forward(self, x: torch.Tensor) -> torch.Tensor:\n",
    "        \"\"\"\n",
    "        Args:\n",
    "            x (torch.Tensor): Tensor de entrada, shape (batch_size, seq_len, embed_dim)\n",
    "                              ¡Importante! Asume batch_first=True.\n",
    "        Returns:\n",
    "            torch.Tensor: Tensor con codificación posicional añadida.\n",
    "        \"\"\"\n",
    "        # Añadir la codificación posicional correspondiente a la longitud de la secuencia\n",
    "        # self.pe tiene shape (1, max_len, d_model)\n",
    "        # Necesitamos la parte (1, seq_len, d_model) donde seq_len = x.size(1)\n",
    "        # .requires_grad_(False) asegura que no se calculen gradientes para el PE\n",
    "        x = x + self.pe[:, :x.size(1), :].requires_grad_(False)\n",
    "        return self.dropout(x)\n",
    "\n",
    "# --- Clase del Modelo MODIFICADA ---\n",
    "class MaxCutAttentionModel(nn.Module):\n",
    "    def __init__(self, input_dim: int, embed_dim: int = 128, num_heads: int = 8,\n",
    "                 num_layers: int = 3, dim_feedforward: int = 512, dropout_rate: float = 0.1,\n",
    "                 max_seq_len: int = 500): # Añadido max_seq_len para PositionalEncoding\n",
    "        \"\"\"\n",
    "        Inicializa el modelo de atención para Max-Cut (MODIFICADO).\n",
    "\n",
    "        Parameters:\n",
    "        input_dim (int): Dimensión del vector de características de entrada (DEBE SER NEW_FEATURE_DIM=11).\n",
    "        embed_dim (int): Dimensión del embedding interno (debe ser divisible por num_heads).\n",
    "        num_heads (int): Número de cabezas en la atención multi-cabeza.\n",
    "        num_layers (int): Número de capas TransformerEncoderLayer apiladas.\n",
    "        dim_feedforward (int): Dimensión de la capa feed-forward dentro de TransformerEncoderLayer.\n",
    "        dropout_rate (float): Tasa de dropout.\n",
    "        max_seq_len (int): Longitud máxima esperada para la codificación posicional.\n",
    "        \"\"\"\n",
    "        super(MaxCutAttentionModel, self).__init__()\n",
    "        self.input_dim = input_dim\n",
    "        self.embed_dim = embed_dim\n",
    "\n",
    "        # 1. Capa de Proyección de Entrada\n",
    "        self.input_projection = nn.Linear(input_dim, embed_dim)\n",
    "\n",
    "        # 2. **NUEVO:** Codificación Posicional\n",
    "        self.pos_encoder = PositionalEncoding(embed_dim, dropout_rate, max_len=max_seq_len)\n",
    "\n",
    "        # 3. Capas Transformer Encoder\n",
    "        encoder_layer = nn.TransformerEncoderLayer(\n",
    "            d_model=embed_dim,\n",
    "            nhead=num_heads,\n",
    "            dim_feedforward=dim_feedforward,\n",
    "            dropout=dropout_rate,\n",
    "            activation='relu',\n",
    "            batch_first=True # Importante: espera entrada (batch, seq, feature)\n",
    "        )\n",
    "        self.transformer_encoder = nn.TransformerEncoder(encoder_layer, num_layers=num_layers)\n",
    "\n",
    "        # 4. Capa(s) de Salida (sin cambios en la estructura)\n",
    "        self.output_layer = nn.Sequential(\n",
    "            nn.Linear(embed_dim, 64),\n",
    "            nn.ReLU(),\n",
    "            nn.Dropout(dropout_rate),\n",
    "            nn.Linear(64, 2)\n",
    "        )\n",
    "\n",
    "    def forward(self, x: torch.Tensor) -> torch.Tensor:\n",
    "        \"\"\"\n",
    "        Forward pass del modelo (MODIFICADO).\n",
    "\n",
    "        Parameters:\n",
    "        x (torch.Tensor): Tensor de entrada de shape (batch_size, num_nodes, input_dim).\n",
    "                          Se espera que input_dim sea NEW_FEATURE_DIM (11).\n",
    "\n",
    "        Returns:\n",
    "        torch.Tensor: Logits de salida de shape (batch_size, 2).\n",
    "        \"\"\"\n",
    "        # x shape: (batch_size, num_nodes, input_dim)\n",
    "\n",
    "        # Identificar el nodo a decidir\n",
    "        # **ACTUALIZADO:** El flag IsDecision ahora está en el índice 4\n",
    "        is_decision_flag = x[:, :, 4].unsqueeze(-1) # Shape: (batch_size, num_nodes, 1)\n",
    "\n",
    "        # 1. Proyectar entrada\n",
    "        projected_x = self.input_projection(x) # Shape: (batch_size, num_nodes, embed_dim)\n",
    "\n",
    "        # 2. **NUEVO:** Añadir Codificación Posicional\n",
    "        projected_x = self.pos_encoder(projected_x)\n",
    "\n",
    "        # 3. Aplicar Transformer Encoder\n",
    "        encoder_output = self.transformer_encoder(projected_x) # Shape: (batch_size, num_nodes, embed_dim)\n",
    "\n",
    "        # 4. Aislar y procesar la representación del nodo a decidir (sin cambios en la lógica)\n",
    "        decision_node_representation = torch.sum(encoder_output * is_decision_flag, dim=1) # Shape: (batch_size, embed_dim)\n",
    "\n",
    "        # 5. Pasar por la capa de salida\n",
    "        logits = self.output_layer(decision_node_representation) # Shape: (batch_size, 2)\n",
    "\n",
    "        return logits\n",
    "    \n",
    "    \n",
    "model = MaxCutAttentionModel(\n",
    "     input_dim=NEW_FEATURE_DIM, # Pasar la nueva dimensión\n",
    "     embed_dim=128,\n",
    "     num_heads=8,\n",
    "     num_layers=4,\n",
    "     dim_feedforward=512,\n",
    "     dropout_rate=0.1,\n",
    "     max_seq_len=100 # Ajusta si esperas grafos más grandes que 100 nodos\n",
    " )\n",
    "\n",
    "device = torch.device(\"cuda\" if torch.cuda.is_available() else \"cpu\")\n",
    "model.to(device)\n",
    "\n",
    "print(\"Modelo modificado con Positional Encoding creado.\")\n",
    "print(f\"Input dim esperada: {model.input_dim}\")\n",
    "\n",
    "try:\n",
    "     from torchinfo import summary\n",
    "     # Usar un N y batch size arbitrarios para el resumen\n",
    "     summary(model, input_size=(32, 20, NEW_FEATURE_DIM))\n",
    "except ImportError:print(model)\n"
   ]
  },
  {
   "cell_type": "code",
   "execution_count": 6,
   "id": "b894df848a0264af",
   "metadata": {
    "ExecuteTime": {
     "end_time": "2025-05-13T08:14:15.077961Z",
     "start_time": "2025-05-13T08:11:06.931680Z"
    }
   },
   "outputs": [
    {
     "name": "stdout",
     "output_type": "stream",
     "text": [
      "Configuración de ILS para generación de datos (Mejorada):\n",
      "  - LS: FI con 'flip', max_actions=1500\n",
      "  - Perturbación: 'flip', pert_size=6\n",
      "  - ILS Iterations: 150\n",
      "Generando datos crudos (sin normalizar)...\n",
      "Necesitando generar y resolver 500 instancias para ~15000 muestras...\n"
     ]
    },
    {
     "data": {
      "application/vnd.jupyter.widget-view+json": {
       "model_id": "8ba36c446cb64028b6d1cb5f492867c5",
       "version_major": 2,
       "version_minor": 0
      },
      "text/plain": [
       "Generando Instancias y Soluciones:   0%|          | 0/500 [00:00<?, ?it/s]"
      ]
     },
     "metadata": {},
     "output_type": "display_data"
    },
    {
     "name": "stdout",
     "output_type": "stream",
     "text": [
      "Generadas 15000 muestras CRUDAS.\n",
      "Datos crudos generados: X shape=(15000, 30, 11)\n",
      "Aplicando estandarización Z-score...\n",
      "Estandarizando datos X crudos con forma: (15000, 30, 11)\n",
      "Estandarización completada.\n",
      "Parámetros de normalización guardados en: normalization_parameters.npz\n",
      "Datos listos para entrenamiento: X shape=torch.Size([15000, 30, 11]), Y shape=torch.Size([15000])\n",
      "Tamaños: Train=10500, Val=2250, Test=2250\n",
      "\n",
      "--- Iniciando Entrenamiento ---\n"
     ]
    },
    {
     "data": {
      "application/vnd.jupyter.widget-view+json": {
       "model_id": "0c0aeae342c344bcbe1a0b1e170cdb41",
       "version_major": 2,
       "version_minor": 0
      },
      "text/plain": [
       "Epoch 1/50 [Train]:   0%|          | 0/165 [00:00<?, ?it/s]"
      ]
     },
     "metadata": {},
     "output_type": "display_data"
    },
    {
     "data": {
      "application/vnd.jupyter.widget-view+json": {
       "model_id": "bc5137a8083b49ea8fe3824813f16db3",
       "version_major": 2,
       "version_minor": 0
      },
      "text/plain": [
       "Epoch 1/50 [Val]:   0%|          | 0/36 [00:00<?, ?it/s]"
      ]
     },
     "metadata": {},
     "output_type": "display_data"
    },
    {
     "name": "stdout",
     "output_type": "stream",
     "text": [
      "Epoch 1/50 => Train Loss: 0.4026, Train Acc: 78.95% | Val Loss: 0.3285, Val Acc: 84.31%\n",
      "  => Modelo guardado en best_maxcut_attention_model_v2.pth (mejor val loss: 0.3285)\n"
     ]
    },
    {
     "data": {
      "application/vnd.jupyter.widget-view+json": {
       "model_id": "56562021772344c9a6b867f7e3ebbda5",
       "version_major": 2,
       "version_minor": 0
      },
      "text/plain": [
       "Epoch 2/50 [Train]:   0%|          | 0/165 [00:00<?, ?it/s]"
      ]
     },
     "metadata": {},
     "output_type": "display_data"
    },
    {
     "data": {
      "application/vnd.jupyter.widget-view+json": {
       "model_id": "d2a9fb818d3b4124b2adf8abc392fceb",
       "version_major": 2,
       "version_minor": 0
      },
      "text/plain": [
       "Epoch 2/50 [Val]:   0%|          | 0/36 [00:00<?, ?it/s]"
      ]
     },
     "metadata": {},
     "output_type": "display_data"
    },
    {
     "name": "stdout",
     "output_type": "stream",
     "text": [
      "Epoch 2/50 => Train Loss: 0.3532, Train Acc: 81.87% | Val Loss: 0.3186, Val Acc: 84.67%\n",
      "  => Modelo guardado en best_maxcut_attention_model_v2.pth (mejor val loss: 0.3186)\n"
     ]
    },
    {
     "data": {
      "application/vnd.jupyter.widget-view+json": {
       "model_id": "2eb3c4c608774082a8ea1295c03e8fa4",
       "version_major": 2,
       "version_minor": 0
      },
      "text/plain": [
       "Epoch 3/50 [Train]:   0%|          | 0/165 [00:00<?, ?it/s]"
      ]
     },
     "metadata": {},
     "output_type": "display_data"
    },
    {
     "data": {
      "application/vnd.jupyter.widget-view+json": {
       "model_id": "af5b1fef845945ac9991a4bce714e828",
       "version_major": 2,
       "version_minor": 0
      },
      "text/plain": [
       "Epoch 3/50 [Val]:   0%|          | 0/36 [00:00<?, ?it/s]"
      ]
     },
     "metadata": {},
     "output_type": "display_data"
    },
    {
     "name": "stdout",
     "output_type": "stream",
     "text": [
      "Epoch 3/50 => Train Loss: 0.3386, Train Acc: 82.81% | Val Loss: 0.3169, Val Acc: 83.20%\n",
      "  => Modelo guardado en best_maxcut_attention_model_v2.pth (mejor val loss: 0.3169)\n"
     ]
    },
    {
     "data": {
      "application/vnd.jupyter.widget-view+json": {
       "model_id": "d519588dc28544f5bf5042deb74a43fc",
       "version_major": 2,
       "version_minor": 0
      },
      "text/plain": [
       "Epoch 4/50 [Train]:   0%|          | 0/165 [00:00<?, ?it/s]"
      ]
     },
     "metadata": {},
     "output_type": "display_data"
    },
    {
     "data": {
      "application/vnd.jupyter.widget-view+json": {
       "model_id": "7c8f1ac848c14e0faa846d7cf4e5bda8",
       "version_major": 2,
       "version_minor": 0
      },
      "text/plain": [
       "Epoch 4/50 [Val]:   0%|          | 0/36 [00:00<?, ?it/s]"
      ]
     },
     "metadata": {},
     "output_type": "display_data"
    },
    {
     "name": "stdout",
     "output_type": "stream",
     "text": [
      "Epoch 4/50 => Train Loss: 0.3337, Train Acc: 83.31% | Val Loss: 0.3137, Val Acc: 84.62%\n",
      "  => Modelo guardado en best_maxcut_attention_model_v2.pth (mejor val loss: 0.3137)\n"
     ]
    },
    {
     "data": {
      "application/vnd.jupyter.widget-view+json": {
       "model_id": "331b402ef86b4b2da80de3b6246fe7f8",
       "version_major": 2,
       "version_minor": 0
      },
      "text/plain": [
       "Epoch 5/50 [Train]:   0%|          | 0/165 [00:00<?, ?it/s]"
      ]
     },
     "metadata": {},
     "output_type": "display_data"
    },
    {
     "data": {
      "application/vnd.jupyter.widget-view+json": {
       "model_id": "22f20c2973e84b28861d77f304602cb4",
       "version_major": 2,
       "version_minor": 0
      },
      "text/plain": [
       "Epoch 5/50 [Val]:   0%|          | 0/36 [00:00<?, ?it/s]"
      ]
     },
     "metadata": {},
     "output_type": "display_data"
    },
    {
     "name": "stdout",
     "output_type": "stream",
     "text": [
      "Epoch 5/50 => Train Loss: 0.3267, Train Acc: 83.49% | Val Loss: 0.3168, Val Acc: 84.13%\n"
     ]
    },
    {
     "data": {
      "application/vnd.jupyter.widget-view+json": {
       "model_id": "6a98173db99d4a4985dea8b86ce188e5",
       "version_major": 2,
       "version_minor": 0
      },
      "text/plain": [
       "Epoch 6/50 [Train]:   0%|          | 0/165 [00:00<?, ?it/s]"
      ]
     },
     "metadata": {},
     "output_type": "display_data"
    },
    {
     "data": {
      "application/vnd.jupyter.widget-view+json": {
       "model_id": "f41a556c71484579a2f159b94408ba2b",
       "version_major": 2,
       "version_minor": 0
      },
      "text/plain": [
       "Epoch 6/50 [Val]:   0%|          | 0/36 [00:00<?, ?it/s]"
      ]
     },
     "metadata": {},
     "output_type": "display_data"
    },
    {
     "name": "stdout",
     "output_type": "stream",
     "text": [
      "Epoch 6/50 => Train Loss: 0.3210, Train Acc: 83.80% | Val Loss: 0.3124, Val Acc: 84.27%\n",
      "  => Modelo guardado en best_maxcut_attention_model_v2.pth (mejor val loss: 0.3124)\n"
     ]
    },
    {
     "data": {
      "application/vnd.jupyter.widget-view+json": {
       "model_id": "5526aca887494526b0f1645cff04be6f",
       "version_major": 2,
       "version_minor": 0
      },
      "text/plain": [
       "Epoch 7/50 [Train]:   0%|          | 0/165 [00:00<?, ?it/s]"
      ]
     },
     "metadata": {},
     "output_type": "display_data"
    },
    {
     "data": {
      "application/vnd.jupyter.widget-view+json": {
       "model_id": "0461f2186ec140d3862d728de90306d1",
       "version_major": 2,
       "version_minor": 0
      },
      "text/plain": [
       "Epoch 7/50 [Val]:   0%|          | 0/36 [00:00<?, ?it/s]"
      ]
     },
     "metadata": {},
     "output_type": "display_data"
    },
    {
     "name": "stdout",
     "output_type": "stream",
     "text": [
      "Epoch 7/50 => Train Loss: 0.3216, Train Acc: 83.56% | Val Loss: 0.3129, Val Acc: 85.24%\n"
     ]
    },
    {
     "data": {
      "application/vnd.jupyter.widget-view+json": {
       "model_id": "88ed1f687bb6473ab1c68bdb23c4541c",
       "version_major": 2,
       "version_minor": 0
      },
      "text/plain": [
       "Epoch 8/50 [Train]:   0%|          | 0/165 [00:00<?, ?it/s]"
      ]
     },
     "metadata": {},
     "output_type": "display_data"
    },
    {
     "data": {
      "application/vnd.jupyter.widget-view+json": {
       "model_id": "c23265061d2e4bef892667816e91609f",
       "version_major": 2,
       "version_minor": 0
      },
      "text/plain": [
       "Epoch 8/50 [Val]:   0%|          | 0/36 [00:00<?, ?it/s]"
      ]
     },
     "metadata": {},
     "output_type": "display_data"
    },
    {
     "name": "stdout",
     "output_type": "stream",
     "text": [
      "Epoch 8/50 => Train Loss: 0.3186, Train Acc: 84.19% | Val Loss: 0.3103, Val Acc: 84.84%\n",
      "  => Modelo guardado en best_maxcut_attention_model_v2.pth (mejor val loss: 0.3103)\n"
     ]
    },
    {
     "data": {
      "application/vnd.jupyter.widget-view+json": {
       "model_id": "2efc5e7d76644448986bfda510104078",
       "version_major": 2,
       "version_minor": 0
      },
      "text/plain": [
       "Epoch 9/50 [Train]:   0%|          | 0/165 [00:00<?, ?it/s]"
      ]
     },
     "metadata": {},
     "output_type": "display_data"
    },
    {
     "data": {
      "application/vnd.jupyter.widget-view+json": {
       "model_id": "1de340fe4d6147aa8b1414f96f28a52d",
       "version_major": 2,
       "version_minor": 0
      },
      "text/plain": [
       "Epoch 9/50 [Val]:   0%|          | 0/36 [00:00<?, ?it/s]"
      ]
     },
     "metadata": {},
     "output_type": "display_data"
    },
    {
     "name": "stdout",
     "output_type": "stream",
     "text": [
      "Epoch 9/50 => Train Loss: 0.3198, Train Acc: 84.09% | Val Loss: 0.3265, Val Acc: 84.22%\n"
     ]
    },
    {
     "data": {
      "application/vnd.jupyter.widget-view+json": {
       "model_id": "4ec1969cbfc543a2b4695b147b0665d5",
       "version_major": 2,
       "version_minor": 0
      },
      "text/plain": [
       "Epoch 10/50 [Train]:   0%|          | 0/165 [00:00<?, ?it/s]"
      ]
     },
     "metadata": {},
     "output_type": "display_data"
    },
    {
     "data": {
      "application/vnd.jupyter.widget-view+json": {
       "model_id": "162e7b57c0b94a69a6c2b439b1db6f87",
       "version_major": 2,
       "version_minor": 0
      },
      "text/plain": [
       "Epoch 10/50 [Val]:   0%|          | 0/36 [00:00<?, ?it/s]"
      ]
     },
     "metadata": {},
     "output_type": "display_data"
    },
    {
     "name": "stdout",
     "output_type": "stream",
     "text": [
      "Epoch 10/50 => Train Loss: 0.3194, Train Acc: 84.02% | Val Loss: 0.3184, Val Acc: 83.78%\n"
     ]
    },
    {
     "data": {
      "application/vnd.jupyter.widget-view+json": {
       "model_id": "aed9ad847f204e0a8c7345e2dea58ff5",
       "version_major": 2,
       "version_minor": 0
      },
      "text/plain": [
       "Epoch 11/50 [Train]:   0%|          | 0/165 [00:00<?, ?it/s]"
      ]
     },
     "metadata": {},
     "output_type": "display_data"
    },
    {
     "data": {
      "application/vnd.jupyter.widget-view+json": {
       "model_id": "123cfb4e6e7c496588691f5630c74f3f",
       "version_major": 2,
       "version_minor": 0
      },
      "text/plain": [
       "Epoch 11/50 [Val]:   0%|          | 0/36 [00:00<?, ?it/s]"
      ]
     },
     "metadata": {},
     "output_type": "display_data"
    },
    {
     "name": "stdout",
     "output_type": "stream",
     "text": [
      "Epoch 11/50 => Train Loss: 0.3128, Train Acc: 84.05% | Val Loss: 0.3088, Val Acc: 85.24%\n",
      "  => Modelo guardado en best_maxcut_attention_model_v2.pth (mejor val loss: 0.3088)\n"
     ]
    },
    {
     "data": {
      "application/vnd.jupyter.widget-view+json": {
       "model_id": "dc2b8183282b46ab9edfbdd5c38cfd1a",
       "version_major": 2,
       "version_minor": 0
      },
      "text/plain": [
       "Epoch 12/50 [Train]:   0%|          | 0/165 [00:00<?, ?it/s]"
      ]
     },
     "metadata": {},
     "output_type": "display_data"
    },
    {
     "data": {
      "application/vnd.jupyter.widget-view+json": {
       "model_id": "bc3ab920e0a9449599ec6837e9e31078",
       "version_major": 2,
       "version_minor": 0
      },
      "text/plain": [
       "Epoch 12/50 [Val]:   0%|          | 0/36 [00:00<?, ?it/s]"
      ]
     },
     "metadata": {},
     "output_type": "display_data"
    },
    {
     "name": "stdout",
     "output_type": "stream",
     "text": [
      "Epoch 12/50 => Train Loss: 0.3168, Train Acc: 84.30% | Val Loss: 0.3166, Val Acc: 85.38%\n"
     ]
    },
    {
     "data": {
      "application/vnd.jupyter.widget-view+json": {
       "model_id": "a6c59082233b456fbda568845c3d4c0c",
       "version_major": 2,
       "version_minor": 0
      },
      "text/plain": [
       "Epoch 13/50 [Train]:   0%|          | 0/165 [00:00<?, ?it/s]"
      ]
     },
     "metadata": {},
     "output_type": "display_data"
    },
    {
     "data": {
      "application/vnd.jupyter.widget-view+json": {
       "model_id": "74c71c429ab04e30a1c50e7abade0b5f",
       "version_major": 2,
       "version_minor": 0
      },
      "text/plain": [
       "Epoch 13/50 [Val]:   0%|          | 0/36 [00:00<?, ?it/s]"
      ]
     },
     "metadata": {},
     "output_type": "display_data"
    },
    {
     "name": "stdout",
     "output_type": "stream",
     "text": [
      "Epoch 13/50 => Train Loss: 0.3153, Train Acc: 84.43% | Val Loss: 0.3116, Val Acc: 84.89%\n"
     ]
    },
    {
     "data": {
      "application/vnd.jupyter.widget-view+json": {
       "model_id": "ae7842a3626a4a0baa822196812b6f2e",
       "version_major": 2,
       "version_minor": 0
      },
      "text/plain": [
       "Epoch 14/50 [Train]:   0%|          | 0/165 [00:00<?, ?it/s]"
      ]
     },
     "metadata": {},
     "output_type": "display_data"
    },
    {
     "data": {
      "application/vnd.jupyter.widget-view+json": {
       "model_id": "f789b97a38554300807d6abc22b53e34",
       "version_major": 2,
       "version_minor": 0
      },
      "text/plain": [
       "Epoch 14/50 [Val]:   0%|          | 0/36 [00:00<?, ?it/s]"
      ]
     },
     "metadata": {},
     "output_type": "display_data"
    },
    {
     "name": "stdout",
     "output_type": "stream",
     "text": [
      "Epoch 14/50 => Train Loss: 0.3141, Train Acc: 84.32% | Val Loss: 0.3096, Val Acc: 85.24%\n"
     ]
    },
    {
     "data": {
      "application/vnd.jupyter.widget-view+json": {
       "model_id": "a0ef57a96eb54ec48e077062fcc4c976",
       "version_major": 2,
       "version_minor": 0
      },
      "text/plain": [
       "Epoch 15/50 [Train]:   0%|          | 0/165 [00:00<?, ?it/s]"
      ]
     },
     "metadata": {},
     "output_type": "display_data"
    },
    {
     "data": {
      "application/vnd.jupyter.widget-view+json": {
       "model_id": "95a48dad020e4f9b8a9e7832dcb55893",
       "version_major": 2,
       "version_minor": 0
      },
      "text/plain": [
       "Epoch 15/50 [Val]:   0%|          | 0/36 [00:00<?, ?it/s]"
      ]
     },
     "metadata": {},
     "output_type": "display_data"
    },
    {
     "name": "stdout",
     "output_type": "stream",
     "text": [
      "Epoch 15/50 => Train Loss: 0.3111, Train Acc: 84.28% | Val Loss: 0.3119, Val Acc: 84.84%\n"
     ]
    },
    {
     "data": {
      "application/vnd.jupyter.widget-view+json": {
       "model_id": "b0f710f24a9a439e8e8b86ccf391671d",
       "version_major": 2,
       "version_minor": 0
      },
      "text/plain": [
       "Epoch 16/50 [Train]:   0%|          | 0/165 [00:00<?, ?it/s]"
      ]
     },
     "metadata": {},
     "output_type": "display_data"
    },
    {
     "data": {
      "application/vnd.jupyter.widget-view+json": {
       "model_id": "87986cd5059249a4932a5a24a633214d",
       "version_major": 2,
       "version_minor": 0
      },
      "text/plain": [
       "Epoch 16/50 [Val]:   0%|          | 0/36 [00:00<?, ?it/s]"
      ]
     },
     "metadata": {},
     "output_type": "display_data"
    },
    {
     "name": "stdout",
     "output_type": "stream",
     "text": [
      "Epoch 16/50 => Train Loss: 0.3087, Train Acc: 84.70% | Val Loss: 0.3070, Val Acc: 84.98%\n",
      "  => Modelo guardado en best_maxcut_attention_model_v2.pth (mejor val loss: 0.3070)\n"
     ]
    },
    {
     "data": {
      "application/vnd.jupyter.widget-view+json": {
       "model_id": "e5750b69bd0741f79d81a889bddf13e4",
       "version_major": 2,
       "version_minor": 0
      },
      "text/plain": [
       "Epoch 17/50 [Train]:   0%|          | 0/165 [00:00<?, ?it/s]"
      ]
     },
     "metadata": {},
     "output_type": "display_data"
    },
    {
     "data": {
      "application/vnd.jupyter.widget-view+json": {
       "model_id": "fa9157d7e176416cbb95b028f0dc96cb",
       "version_major": 2,
       "version_minor": 0
      },
      "text/plain": [
       "Epoch 17/50 [Val]:   0%|          | 0/36 [00:00<?, ?it/s]"
      ]
     },
     "metadata": {},
     "output_type": "display_data"
    },
    {
     "name": "stdout",
     "output_type": "stream",
     "text": [
      "Epoch 17/50 => Train Loss: 0.3060, Train Acc: 84.68% | Val Loss: 0.3119, Val Acc: 84.44%\n"
     ]
    },
    {
     "data": {
      "application/vnd.jupyter.widget-view+json": {
       "model_id": "5b9a4a192de84c06912924df21482a07",
       "version_major": 2,
       "version_minor": 0
      },
      "text/plain": [
       "Epoch 18/50 [Train]:   0%|          | 0/165 [00:00<?, ?it/s]"
      ]
     },
     "metadata": {},
     "output_type": "display_data"
    },
    {
     "data": {
      "application/vnd.jupyter.widget-view+json": {
       "model_id": "fe0da543777c487496f1a9af21f08372",
       "version_major": 2,
       "version_minor": 0
      },
      "text/plain": [
       "Epoch 18/50 [Val]:   0%|          | 0/36 [00:00<?, ?it/s]"
      ]
     },
     "metadata": {},
     "output_type": "display_data"
    },
    {
     "name": "stdout",
     "output_type": "stream",
     "text": [
      "Epoch 18/50 => Train Loss: 0.3090, Train Acc: 84.66% | Val Loss: 0.3124, Val Acc: 84.58%\n"
     ]
    },
    {
     "data": {
      "application/vnd.jupyter.widget-view+json": {
       "model_id": "2c8598df151e41df8fa4108af13ecd9c",
       "version_major": 2,
       "version_minor": 0
      },
      "text/plain": [
       "Epoch 19/50 [Train]:   0%|          | 0/165 [00:00<?, ?it/s]"
      ]
     },
     "metadata": {},
     "output_type": "display_data"
    },
    {
     "data": {
      "application/vnd.jupyter.widget-view+json": {
       "model_id": "3a2646cd1c8741d0aec0562f867bf31c",
       "version_major": 2,
       "version_minor": 0
      },
      "text/plain": [
       "Epoch 19/50 [Val]:   0%|          | 0/36 [00:00<?, ?it/s]"
      ]
     },
     "metadata": {},
     "output_type": "display_data"
    },
    {
     "name": "stdout",
     "output_type": "stream",
     "text": [
      "Epoch 19/50 => Train Loss: 0.3010, Train Acc: 84.83% | Val Loss: 0.3255, Val Acc: 84.13%\n"
     ]
    },
    {
     "data": {
      "application/vnd.jupyter.widget-view+json": {
       "model_id": "57d201101c7b4db3b4f2264a47f382b8",
       "version_major": 2,
       "version_minor": 0
      },
      "text/plain": [
       "Epoch 20/50 [Train]:   0%|          | 0/165 [00:00<?, ?it/s]"
      ]
     },
     "metadata": {},
     "output_type": "display_data"
    },
    {
     "data": {
      "application/vnd.jupyter.widget-view+json": {
       "model_id": "d7c7416666674c9fa5c291645452d34c",
       "version_major": 2,
       "version_minor": 0
      },
      "text/plain": [
       "Epoch 20/50 [Val]:   0%|          | 0/36 [00:00<?, ?it/s]"
      ]
     },
     "metadata": {},
     "output_type": "display_data"
    },
    {
     "name": "stdout",
     "output_type": "stream",
     "text": [
      "Epoch 20/50 => Train Loss: 0.3057, Train Acc: 84.90% | Val Loss: 0.3083, Val Acc: 85.38%\n"
     ]
    },
    {
     "data": {
      "application/vnd.jupyter.widget-view+json": {
       "model_id": "161b0a4a51ac4b95ae5055c0b43122b7",
       "version_major": 2,
       "version_minor": 0
      },
      "text/plain": [
       "Epoch 21/50 [Train]:   0%|          | 0/165 [00:00<?, ?it/s]"
      ]
     },
     "metadata": {},
     "output_type": "display_data"
    },
    {
     "data": {
      "application/vnd.jupyter.widget-view+json": {
       "model_id": "c8d8c916ebb74448bb9f331cd41b3ffd",
       "version_major": 2,
       "version_minor": 0
      },
      "text/plain": [
       "Epoch 21/50 [Val]:   0%|          | 0/36 [00:00<?, ?it/s]"
      ]
     },
     "metadata": {},
     "output_type": "display_data"
    },
    {
     "name": "stdout",
     "output_type": "stream",
     "text": [
      "Epoch 21/50 => Train Loss: 0.3007, Train Acc: 85.21% | Val Loss: 0.3145, Val Acc: 84.89%\n"
     ]
    },
    {
     "data": {
      "application/vnd.jupyter.widget-view+json": {
       "model_id": "93d502f8d5ce41b985d2da7f954a6d5b",
       "version_major": 2,
       "version_minor": 0
      },
      "text/plain": [
       "Epoch 22/50 [Train]:   0%|          | 0/165 [00:00<?, ?it/s]"
      ]
     },
     "metadata": {},
     "output_type": "display_data"
    },
    {
     "data": {
      "application/vnd.jupyter.widget-view+json": {
       "model_id": "029c4222df3d4cf8b7fd2e74becd9803",
       "version_major": 2,
       "version_minor": 0
      },
      "text/plain": [
       "Epoch 22/50 [Val]:   0%|          | 0/36 [00:00<?, ?it/s]"
      ]
     },
     "metadata": {},
     "output_type": "display_data"
    },
    {
     "name": "stdout",
     "output_type": "stream",
     "text": [
      "Epoch 22/50 => Train Loss: 0.3035, Train Acc: 84.82% | Val Loss: 0.3087, Val Acc: 84.98%\n"
     ]
    },
    {
     "data": {
      "application/vnd.jupyter.widget-view+json": {
       "model_id": "9fd5030d26a14348a9683605a9f127b9",
       "version_major": 2,
       "version_minor": 0
      },
      "text/plain": [
       "Epoch 23/50 [Train]:   0%|          | 0/165 [00:00<?, ?it/s]"
      ]
     },
     "metadata": {},
     "output_type": "display_data"
    },
    {
     "data": {
      "application/vnd.jupyter.widget-view+json": {
       "model_id": "c79162c642cd429a892a141a183dcde4",
       "version_major": 2,
       "version_minor": 0
      },
      "text/plain": [
       "Epoch 23/50 [Val]:   0%|          | 0/36 [00:00<?, ?it/s]"
      ]
     },
     "metadata": {},
     "output_type": "display_data"
    },
    {
     "name": "stdout",
     "output_type": "stream",
     "text": [
      "Epoch 23/50 => Train Loss: 0.3041, Train Acc: 84.70% | Val Loss: 0.3182, Val Acc: 84.62%\n"
     ]
    },
    {
     "data": {
      "application/vnd.jupyter.widget-view+json": {
       "model_id": "aa53948c552d435ab0b15641eb935332",
       "version_major": 2,
       "version_minor": 0
      },
      "text/plain": [
       "Epoch 24/50 [Train]:   0%|          | 0/165 [00:00<?, ?it/s]"
      ]
     },
     "metadata": {},
     "output_type": "display_data"
    },
    {
     "data": {
      "application/vnd.jupyter.widget-view+json": {
       "model_id": "e12a8a6a16c348348a883e6e357b2b1c",
       "version_major": 2,
       "version_minor": 0
      },
      "text/plain": [
       "Epoch 24/50 [Val]:   0%|          | 0/36 [00:00<?, ?it/s]"
      ]
     },
     "metadata": {},
     "output_type": "display_data"
    },
    {
     "name": "stdout",
     "output_type": "stream",
     "text": [
      "Epoch 24/50 => Train Loss: 0.3029, Train Acc: 84.95% | Val Loss: 0.3187, Val Acc: 84.58%\n"
     ]
    },
    {
     "data": {
      "application/vnd.jupyter.widget-view+json": {
       "model_id": "4283acc6a5e6495f9675c16694bfdddc",
       "version_major": 2,
       "version_minor": 0
      },
      "text/plain": [
       "Epoch 25/50 [Train]:   0%|          | 0/165 [00:00<?, ?it/s]"
      ]
     },
     "metadata": {},
     "output_type": "display_data"
    },
    {
     "data": {
      "application/vnd.jupyter.widget-view+json": {
       "model_id": "31f9dbb3942f43f78701f0fcf458739a",
       "version_major": 2,
       "version_minor": 0
      },
      "text/plain": [
       "Epoch 25/50 [Val]:   0%|          | 0/36 [00:00<?, ?it/s]"
      ]
     },
     "metadata": {},
     "output_type": "display_data"
    },
    {
     "name": "stdout",
     "output_type": "stream",
     "text": [
      "Epoch 25/50 => Train Loss: 0.2986, Train Acc: 85.29% | Val Loss: 0.3180, Val Acc: 85.60%\n"
     ]
    },
    {
     "data": {
      "application/vnd.jupyter.widget-view+json": {
       "model_id": "d1f4777cfd4e434ab56d63871dea5ac4",
       "version_major": 2,
       "version_minor": 0
      },
      "text/plain": [
       "Epoch 26/50 [Train]:   0%|          | 0/165 [00:00<?, ?it/s]"
      ]
     },
     "metadata": {},
     "output_type": "display_data"
    },
    {
     "data": {
      "application/vnd.jupyter.widget-view+json": {
       "model_id": "d034d637dc9a458c97245c351e6e7092",
       "version_major": 2,
       "version_minor": 0
      },
      "text/plain": [
       "Epoch 26/50 [Val]:   0%|          | 0/36 [00:00<?, ?it/s]"
      ]
     },
     "metadata": {},
     "output_type": "display_data"
    },
    {
     "name": "stdout",
     "output_type": "stream",
     "text": [
      "Epoch 26/50 => Train Loss: 0.3005, Train Acc: 84.96% | Val Loss: 0.3102, Val Acc: 85.16%\n"
     ]
    },
    {
     "data": {
      "application/vnd.jupyter.widget-view+json": {
       "model_id": "6f8a58f98710480eadad55a77f61e945",
       "version_major": 2,
       "version_minor": 0
      },
      "text/plain": [
       "Epoch 27/50 [Train]:   0%|          | 0/165 [00:00<?, ?it/s]"
      ]
     },
     "metadata": {},
     "output_type": "display_data"
    },
    {
     "data": {
      "application/vnd.jupyter.widget-view+json": {
       "model_id": "b9ba5e2447844f8bac69ab25f6668558",
       "version_major": 2,
       "version_minor": 0
      },
      "text/plain": [
       "Epoch 27/50 [Val]:   0%|          | 0/36 [00:00<?, ?it/s]"
      ]
     },
     "metadata": {},
     "output_type": "display_data"
    },
    {
     "name": "stdout",
     "output_type": "stream",
     "text": [
      "Epoch 27/50 => Train Loss: 0.2953, Train Acc: 85.48% | Val Loss: 0.3159, Val Acc: 84.49%\n"
     ]
    },
    {
     "data": {
      "application/vnd.jupyter.widget-view+json": {
       "model_id": "b3b77b8353f1492da4545e2174a483bf",
       "version_major": 2,
       "version_minor": 0
      },
      "text/plain": [
       "Epoch 28/50 [Train]:   0%|          | 0/165 [00:00<?, ?it/s]"
      ]
     },
     "metadata": {},
     "output_type": "display_data"
    },
    {
     "data": {
      "application/vnd.jupyter.widget-view+json": {
       "model_id": "88825352abdb49ee814a5aa7a10b9cf5",
       "version_major": 2,
       "version_minor": 0
      },
      "text/plain": [
       "Epoch 28/50 [Val]:   0%|          | 0/36 [00:00<?, ?it/s]"
      ]
     },
     "metadata": {},
     "output_type": "display_data"
    },
    {
     "name": "stdout",
     "output_type": "stream",
     "text": [
      "Epoch 28/50 => Train Loss: 0.3015, Train Acc: 85.10% | Val Loss: 0.3268, Val Acc: 84.62%\n"
     ]
    },
    {
     "data": {
      "application/vnd.jupyter.widget-view+json": {
       "model_id": "21917971ba1c4751a9a9356e40bcd1d0",
       "version_major": 2,
       "version_minor": 0
      },
      "text/plain": [
       "Epoch 29/50 [Train]:   0%|          | 0/165 [00:00<?, ?it/s]"
      ]
     },
     "metadata": {},
     "output_type": "display_data"
    },
    {
     "data": {
      "application/vnd.jupyter.widget-view+json": {
       "model_id": "f21520881e2c449ab0e59084a21efffb",
       "version_major": 2,
       "version_minor": 0
      },
      "text/plain": [
       "Epoch 29/50 [Val]:   0%|          | 0/36 [00:00<?, ?it/s]"
      ]
     },
     "metadata": {},
     "output_type": "display_data"
    },
    {
     "name": "stdout",
     "output_type": "stream",
     "text": [
      "Epoch 29/50 => Train Loss: 0.2982, Train Acc: 84.93% | Val Loss: 0.3085, Val Acc: 84.89%\n"
     ]
    },
    {
     "data": {
      "application/vnd.jupyter.widget-view+json": {
       "model_id": "d4cfb850aaf344cc8d96480072402795",
       "version_major": 2,
       "version_minor": 0
      },
      "text/plain": [
       "Epoch 30/50 [Train]:   0%|          | 0/165 [00:00<?, ?it/s]"
      ]
     },
     "metadata": {},
     "output_type": "display_data"
    },
    {
     "data": {
      "application/vnd.jupyter.widget-view+json": {
       "model_id": "cb54ef65b394461aa6931e4163d7cfff",
       "version_major": 2,
       "version_minor": 0
      },
      "text/plain": [
       "Epoch 30/50 [Val]:   0%|          | 0/36 [00:00<?, ?it/s]"
      ]
     },
     "metadata": {},
     "output_type": "display_data"
    },
    {
     "name": "stdout",
     "output_type": "stream",
     "text": [
      "Epoch 30/50 => Train Loss: 0.2960, Train Acc: 84.98% | Val Loss: 0.3100, Val Acc: 85.29%\n"
     ]
    },
    {
     "data": {
      "application/vnd.jupyter.widget-view+json": {
       "model_id": "74b4ee9a20544554bd9e1d76b4f1cc3f",
       "version_major": 2,
       "version_minor": 0
      },
      "text/plain": [
       "Epoch 31/50 [Train]:   0%|          | 0/165 [00:00<?, ?it/s]"
      ]
     },
     "metadata": {},
     "output_type": "display_data"
    },
    {
     "data": {
      "application/vnd.jupyter.widget-view+json": {
       "model_id": "e3c1b429856e4847a964b9d80bc2f378",
       "version_major": 2,
       "version_minor": 0
      },
      "text/plain": [
       "Epoch 31/50 [Val]:   0%|          | 0/36 [00:00<?, ?it/s]"
      ]
     },
     "metadata": {},
     "output_type": "display_data"
    },
    {
     "name": "stdout",
     "output_type": "stream",
     "text": [
      "Epoch 31/50 => Train Loss: 0.2906, Train Acc: 85.35% | Val Loss: 0.3133, Val Acc: 84.36%\n"
     ]
    },
    {
     "data": {
      "application/vnd.jupyter.widget-view+json": {
       "model_id": "b4e6bbe1c84b457d8d73cebfe3d31ba4",
       "version_major": 2,
       "version_minor": 0
      },
      "text/plain": [
       "Epoch 32/50 [Train]:   0%|          | 0/165 [00:00<?, ?it/s]"
      ]
     },
     "metadata": {},
     "output_type": "display_data"
    },
    {
     "data": {
      "application/vnd.jupyter.widget-view+json": {
       "model_id": "9a8c97d2c9434bc587a70d3eaf8fc6cb",
       "version_major": 2,
       "version_minor": 0
      },
      "text/plain": [
       "Epoch 32/50 [Val]:   0%|          | 0/36 [00:00<?, ?it/s]"
      ]
     },
     "metadata": {},
     "output_type": "display_data"
    },
    {
     "name": "stdout",
     "output_type": "stream",
     "text": [
      "Epoch 32/50 => Train Loss: 0.2926, Train Acc: 85.64% | Val Loss: 0.3194, Val Acc: 85.11%\n"
     ]
    },
    {
     "data": {
      "application/vnd.jupyter.widget-view+json": {
       "model_id": "790a425524c1430781a5850618f0250c",
       "version_major": 2,
       "version_minor": 0
      },
      "text/plain": [
       "Epoch 33/50 [Train]:   0%|          | 0/165 [00:00<?, ?it/s]"
      ]
     },
     "metadata": {},
     "output_type": "display_data"
    },
    {
     "data": {
      "application/vnd.jupyter.widget-view+json": {
       "model_id": "e96e104c42304a869572d55b54cd5aea",
       "version_major": 2,
       "version_minor": 0
      },
      "text/plain": [
       "Epoch 33/50 [Val]:   0%|          | 0/36 [00:00<?, ?it/s]"
      ]
     },
     "metadata": {},
     "output_type": "display_data"
    },
    {
     "name": "stdout",
     "output_type": "stream",
     "text": [
      "Epoch 33/50 => Train Loss: 0.2928, Train Acc: 85.66% | Val Loss: 0.3151, Val Acc: 84.58%\n"
     ]
    },
    {
     "data": {
      "application/vnd.jupyter.widget-view+json": {
       "model_id": "cde4e10cab5a41e1b21b2493636462ca",
       "version_major": 2,
       "version_minor": 0
      },
      "text/plain": [
       "Epoch 34/50 [Train]:   0%|          | 0/165 [00:00<?, ?it/s]"
      ]
     },
     "metadata": {},
     "output_type": "display_data"
    },
    {
     "data": {
      "application/vnd.jupyter.widget-view+json": {
       "model_id": "768450f06be544218e248922d473a750",
       "version_major": 2,
       "version_minor": 0
      },
      "text/plain": [
       "Epoch 34/50 [Val]:   0%|          | 0/36 [00:00<?, ?it/s]"
      ]
     },
     "metadata": {},
     "output_type": "display_data"
    },
    {
     "name": "stdout",
     "output_type": "stream",
     "text": [
      "Epoch 34/50 => Train Loss: 0.2900, Train Acc: 86.03% | Val Loss: 0.3290, Val Acc: 84.00%\n"
     ]
    },
    {
     "data": {
      "application/vnd.jupyter.widget-view+json": {
       "model_id": "db0c186b564b43e195b1f675a1119e5f",
       "version_major": 2,
       "version_minor": 0
      },
      "text/plain": [
       "Epoch 35/50 [Train]:   0%|          | 0/165 [00:00<?, ?it/s]"
      ]
     },
     "metadata": {},
     "output_type": "display_data"
    },
    {
     "data": {
      "application/vnd.jupyter.widget-view+json": {
       "model_id": "39c2b79cef4c44e087f63d917562de91",
       "version_major": 2,
       "version_minor": 0
      },
      "text/plain": [
       "Epoch 35/50 [Val]:   0%|          | 0/36 [00:00<?, ?it/s]"
      ]
     },
     "metadata": {},
     "output_type": "display_data"
    },
    {
     "name": "stdout",
     "output_type": "stream",
     "text": [
      "Epoch 35/50 => Train Loss: 0.2908, Train Acc: 85.40% | Val Loss: 0.3213, Val Acc: 85.42%\n"
     ]
    },
    {
     "data": {
      "application/vnd.jupyter.widget-view+json": {
       "model_id": "2624406851ce46239209cc72974220ce",
       "version_major": 2,
       "version_minor": 0
      },
      "text/plain": [
       "Epoch 36/50 [Train]:   0%|          | 0/165 [00:00<?, ?it/s]"
      ]
     },
     "metadata": {},
     "output_type": "display_data"
    },
    {
     "data": {
      "application/vnd.jupyter.widget-view+json": {
       "model_id": "a1a3115985394912a745c62aa57d0bdf",
       "version_major": 2,
       "version_minor": 0
      },
      "text/plain": [
       "Epoch 36/50 [Val]:   0%|          | 0/36 [00:00<?, ?it/s]"
      ]
     },
     "metadata": {},
     "output_type": "display_data"
    },
    {
     "name": "stdout",
     "output_type": "stream",
     "text": [
      "Epoch 36/50 => Train Loss: 0.2882, Train Acc: 85.47% | Val Loss: 0.3289, Val Acc: 84.80%\n"
     ]
    },
    {
     "data": {
      "application/vnd.jupyter.widget-view+json": {
       "model_id": "c5e8fbcb1f9b4a929dffe4de4bd1053e",
       "version_major": 2,
       "version_minor": 0
      },
      "text/plain": [
       "Epoch 37/50 [Train]:   0%|          | 0/165 [00:00<?, ?it/s]"
      ]
     },
     "metadata": {},
     "output_type": "display_data"
    },
    {
     "data": {
      "application/vnd.jupyter.widget-view+json": {
       "model_id": "86297bf8194148309c2b0860d564024e",
       "version_major": 2,
       "version_minor": 0
      },
      "text/plain": [
       "Epoch 37/50 [Val]:   0%|          | 0/36 [00:00<?, ?it/s]"
      ]
     },
     "metadata": {},
     "output_type": "display_data"
    },
    {
     "name": "stdout",
     "output_type": "stream",
     "text": [
      "Epoch 37/50 => Train Loss: 0.2881, Train Acc: 85.59% | Val Loss: 0.3247, Val Acc: 84.67%\n"
     ]
    },
    {
     "data": {
      "application/vnd.jupyter.widget-view+json": {
       "model_id": "f9e99756e6c24a9c9ed65d44b592d8ef",
       "version_major": 2,
       "version_minor": 0
      },
      "text/plain": [
       "Epoch 38/50 [Train]:   0%|          | 0/165 [00:00<?, ?it/s]"
      ]
     },
     "metadata": {},
     "output_type": "display_data"
    },
    {
     "data": {
      "application/vnd.jupyter.widget-view+json": {
       "model_id": "f4abd049450741d5a00250aa59640180",
       "version_major": 2,
       "version_minor": 0
      },
      "text/plain": [
       "Epoch 38/50 [Val]:   0%|          | 0/36 [00:00<?, ?it/s]"
      ]
     },
     "metadata": {},
     "output_type": "display_data"
    },
    {
     "name": "stdout",
     "output_type": "stream",
     "text": [
      "Epoch 38/50 => Train Loss: 0.2860, Train Acc: 85.66% | Val Loss: 0.3097, Val Acc: 85.11%\n"
     ]
    },
    {
     "data": {
      "application/vnd.jupyter.widget-view+json": {
       "model_id": "30658b4b8181496585427a8165e5e03e",
       "version_major": 2,
       "version_minor": 0
      },
      "text/plain": [
       "Epoch 39/50 [Train]:   0%|          | 0/165 [00:00<?, ?it/s]"
      ]
     },
     "metadata": {},
     "output_type": "display_data"
    },
    {
     "data": {
      "application/vnd.jupyter.widget-view+json": {
       "model_id": "411537a3747f400bbbb76181cf6dc09c",
       "version_major": 2,
       "version_minor": 0
      },
      "text/plain": [
       "Epoch 39/50 [Val]:   0%|          | 0/36 [00:00<?, ?it/s]"
      ]
     },
     "metadata": {},
     "output_type": "display_data"
    },
    {
     "name": "stdout",
     "output_type": "stream",
     "text": [
      "Epoch 39/50 => Train Loss: 0.2831, Train Acc: 86.01% | Val Loss: 0.3188, Val Acc: 84.93%\n"
     ]
    },
    {
     "data": {
      "application/vnd.jupyter.widget-view+json": {
       "model_id": "3fde52112a48420cb4ccf906a4fefe21",
       "version_major": 2,
       "version_minor": 0
      },
      "text/plain": [
       "Epoch 40/50 [Train]:   0%|          | 0/165 [00:00<?, ?it/s]"
      ]
     },
     "metadata": {},
     "output_type": "display_data"
    },
    {
     "data": {
      "application/vnd.jupyter.widget-view+json": {
       "model_id": "a4d2620cca314fd2aa7b152c82968d7c",
       "version_major": 2,
       "version_minor": 0
      },
      "text/plain": [
       "Epoch 40/50 [Val]:   0%|          | 0/36 [00:00<?, ?it/s]"
      ]
     },
     "metadata": {},
     "output_type": "display_data"
    },
    {
     "name": "stdout",
     "output_type": "stream",
     "text": [
      "Epoch 40/50 => Train Loss: 0.2842, Train Acc: 85.52% | Val Loss: 0.3157, Val Acc: 84.80%\n"
     ]
    },
    {
     "data": {
      "application/vnd.jupyter.widget-view+json": {
       "model_id": "063c74cce75c427aa3894e94598ebb55",
       "version_major": 2,
       "version_minor": 0
      },
      "text/plain": [
       "Epoch 41/50 [Train]:   0%|          | 0/165 [00:00<?, ?it/s]"
      ]
     },
     "metadata": {},
     "output_type": "display_data"
    },
    {
     "data": {
      "application/vnd.jupyter.widget-view+json": {
       "model_id": "74f08df672574f9199d244b65bef2200",
       "version_major": 2,
       "version_minor": 0
      },
      "text/plain": [
       "Epoch 41/50 [Val]:   0%|          | 0/36 [00:00<?, ?it/s]"
      ]
     },
     "metadata": {},
     "output_type": "display_data"
    },
    {
     "name": "stdout",
     "output_type": "stream",
     "text": [
      "Epoch 41/50 => Train Loss: 0.2825, Train Acc: 86.07% | Val Loss: 0.3220, Val Acc: 84.84%\n"
     ]
    },
    {
     "data": {
      "application/vnd.jupyter.widget-view+json": {
       "model_id": "5861c90dd2ea43ed91a1304d3c43978d",
       "version_major": 2,
       "version_minor": 0
      },
      "text/plain": [
       "Epoch 42/50 [Train]:   0%|          | 0/165 [00:00<?, ?it/s]"
      ]
     },
     "metadata": {},
     "output_type": "display_data"
    },
    {
     "data": {
      "application/vnd.jupyter.widget-view+json": {
       "model_id": "87f0eaf2b7cc452c9735089f1b19494d",
       "version_major": 2,
       "version_minor": 0
      },
      "text/plain": [
       "Epoch 42/50 [Val]:   0%|          | 0/36 [00:00<?, ?it/s]"
      ]
     },
     "metadata": {},
     "output_type": "display_data"
    },
    {
     "name": "stdout",
     "output_type": "stream",
     "text": [
      "Epoch 42/50 => Train Loss: 0.2822, Train Acc: 86.03% | Val Loss: 0.3253, Val Acc: 84.89%\n"
     ]
    },
    {
     "data": {
      "application/vnd.jupyter.widget-view+json": {
       "model_id": "776231033bdc4533b9bd887b30671263",
       "version_major": 2,
       "version_minor": 0
      },
      "text/plain": [
       "Epoch 43/50 [Train]:   0%|          | 0/165 [00:00<?, ?it/s]"
      ]
     },
     "metadata": {},
     "output_type": "display_data"
    },
    {
     "data": {
      "application/vnd.jupyter.widget-view+json": {
       "model_id": "b28a68884a374ddf8f4fa4785e87fd9b",
       "version_major": 2,
       "version_minor": 0
      },
      "text/plain": [
       "Epoch 43/50 [Val]:   0%|          | 0/36 [00:00<?, ?it/s]"
      ]
     },
     "metadata": {},
     "output_type": "display_data"
    },
    {
     "name": "stdout",
     "output_type": "stream",
     "text": [
      "Epoch 43/50 => Train Loss: 0.2811, Train Acc: 85.73% | Val Loss: 0.3251, Val Acc: 84.67%\n"
     ]
    },
    {
     "data": {
      "application/vnd.jupyter.widget-view+json": {
       "model_id": "d3d93b4ff1d34449af7b550d29cd666a",
       "version_major": 2,
       "version_minor": 0
      },
      "text/plain": [
       "Epoch 44/50 [Train]:   0%|          | 0/165 [00:00<?, ?it/s]"
      ]
     },
     "metadata": {},
     "output_type": "display_data"
    },
    {
     "data": {
      "application/vnd.jupyter.widget-view+json": {
       "model_id": "788a91673c4d4080a45e50453d7087a3",
       "version_major": 2,
       "version_minor": 0
      },
      "text/plain": [
       "Epoch 44/50 [Val]:   0%|          | 0/36 [00:00<?, ?it/s]"
      ]
     },
     "metadata": {},
     "output_type": "display_data"
    },
    {
     "name": "stdout",
     "output_type": "stream",
     "text": [
      "Epoch 44/50 => Train Loss: 0.2765, Train Acc: 86.11% | Val Loss: 0.3308, Val Acc: 84.67%\n"
     ]
    },
    {
     "data": {
      "application/vnd.jupyter.widget-view+json": {
       "model_id": "20ee31fe9a0d4d51b866ffe7fa400291",
       "version_major": 2,
       "version_minor": 0
      },
      "text/plain": [
       "Epoch 45/50 [Train]:   0%|          | 0/165 [00:00<?, ?it/s]"
      ]
     },
     "metadata": {},
     "output_type": "display_data"
    },
    {
     "data": {
      "application/vnd.jupyter.widget-view+json": {
       "model_id": "092f0f6873694030b0c9ca13f5821877",
       "version_major": 2,
       "version_minor": 0
      },
      "text/plain": [
       "Epoch 45/50 [Val]:   0%|          | 0/36 [00:00<?, ?it/s]"
      ]
     },
     "metadata": {},
     "output_type": "display_data"
    },
    {
     "name": "stdout",
     "output_type": "stream",
     "text": [
      "Epoch 45/50 => Train Loss: 0.2750, Train Acc: 86.15% | Val Loss: 0.3430, Val Acc: 83.82%\n"
     ]
    },
    {
     "data": {
      "application/vnd.jupyter.widget-view+json": {
       "model_id": "d08ef16fc867435f932c2fa33b4e00a4",
       "version_major": 2,
       "version_minor": 0
      },
      "text/plain": [
       "Epoch 46/50 [Train]:   0%|          | 0/165 [00:00<?, ?it/s]"
      ]
     },
     "metadata": {},
     "output_type": "display_data"
    },
    {
     "data": {
      "application/vnd.jupyter.widget-view+json": {
       "model_id": "4dd232deea2c43a18bc19a172de21093",
       "version_major": 2,
       "version_minor": 0
      },
      "text/plain": [
       "Epoch 46/50 [Val]:   0%|          | 0/36 [00:00<?, ?it/s]"
      ]
     },
     "metadata": {},
     "output_type": "display_data"
    },
    {
     "name": "stdout",
     "output_type": "stream",
     "text": [
      "Epoch 46/50 => Train Loss: 0.2747, Train Acc: 85.97% | Val Loss: 0.3435, Val Acc: 84.40%\n"
     ]
    },
    {
     "data": {
      "application/vnd.jupyter.widget-view+json": {
       "model_id": "5b206a42dd9545c7a0722afc7eef606e",
       "version_major": 2,
       "version_minor": 0
      },
      "text/plain": [
       "Epoch 47/50 [Train]:   0%|          | 0/165 [00:00<?, ?it/s]"
      ]
     },
     "metadata": {},
     "output_type": "display_data"
    },
    {
     "data": {
      "application/vnd.jupyter.widget-view+json": {
       "model_id": "97f57019d68a40779d2c9a67454b3676",
       "version_major": 2,
       "version_minor": 0
      },
      "text/plain": [
       "Epoch 47/50 [Val]:   0%|          | 0/36 [00:00<?, ?it/s]"
      ]
     },
     "metadata": {},
     "output_type": "display_data"
    },
    {
     "name": "stdout",
     "output_type": "stream",
     "text": [
      "Epoch 47/50 => Train Loss: 0.2718, Train Acc: 86.10% | Val Loss: 0.3326, Val Acc: 84.71%\n"
     ]
    },
    {
     "data": {
      "application/vnd.jupyter.widget-view+json": {
       "model_id": "26a1c050bdce4f399f86f6db955ae5e6",
       "version_major": 2,
       "version_minor": 0
      },
      "text/plain": [
       "Epoch 48/50 [Train]:   0%|          | 0/165 [00:00<?, ?it/s]"
      ]
     },
     "metadata": {},
     "output_type": "display_data"
    },
    {
     "data": {
      "application/vnd.jupyter.widget-view+json": {
       "model_id": "f685f3fa5f174eeb8b3e92f59ec0f114",
       "version_major": 2,
       "version_minor": 0
      },
      "text/plain": [
       "Epoch 48/50 [Val]:   0%|          | 0/36 [00:00<?, ?it/s]"
      ]
     },
     "metadata": {},
     "output_type": "display_data"
    },
    {
     "name": "stdout",
     "output_type": "stream",
     "text": [
      "Epoch 48/50 => Train Loss: 0.2713, Train Acc: 86.19% | Val Loss: 0.3276, Val Acc: 85.07%\n"
     ]
    },
    {
     "data": {
      "application/vnd.jupyter.widget-view+json": {
       "model_id": "1a42895854d545598e3a89708bc99cd1",
       "version_major": 2,
       "version_minor": 0
      },
      "text/plain": [
       "Epoch 49/50 [Train]:   0%|          | 0/165 [00:00<?, ?it/s]"
      ]
     },
     "metadata": {},
     "output_type": "display_data"
    },
    {
     "data": {
      "application/vnd.jupyter.widget-view+json": {
       "model_id": "4342082aad23418dbf2bd1bb83aa33fa",
       "version_major": 2,
       "version_minor": 0
      },
      "text/plain": [
       "Epoch 49/50 [Val]:   0%|          | 0/36 [00:00<?, ?it/s]"
      ]
     },
     "metadata": {},
     "output_type": "display_data"
    },
    {
     "name": "stdout",
     "output_type": "stream",
     "text": [
      "Epoch 49/50 => Train Loss: 0.2665, Train Acc: 86.62% | Val Loss: 0.3566, Val Acc: 84.84%\n"
     ]
    },
    {
     "data": {
      "application/vnd.jupyter.widget-view+json": {
       "model_id": "b19a4b73a73241e1bfaf8d2956c3ef85",
       "version_major": 2,
       "version_minor": 0
      },
      "text/plain": [
       "Epoch 50/50 [Train]:   0%|          | 0/165 [00:00<?, ?it/s]"
      ]
     },
     "metadata": {},
     "output_type": "display_data"
    },
    {
     "data": {
      "application/vnd.jupyter.widget-view+json": {
       "model_id": "acfa8a75dae94914b3c0ce4e966bb1e1",
       "version_major": 2,
       "version_minor": 0
      },
      "text/plain": [
       "Epoch 50/50 [Val]:   0%|          | 0/36 [00:00<?, ?it/s]"
      ]
     },
     "metadata": {},
     "output_type": "display_data"
    },
    {
     "name": "stdout",
     "output_type": "stream",
     "text": [
      "Epoch 50/50 => Train Loss: 0.2691, Train Acc: 86.68% | Val Loss: 0.3230, Val Acc: 85.38%\n",
      "\n",
      "--- Entrenamiento Finalizado ---\n",
      "Generando gráficos de entrenamiento...\n"
     ]
    },
    {
     "data": {
      "image/png": "[encoded data removed]",
      "text/plain": [
       "<Figure size 1000x500 with 1 Axes>"
      ]
     },
     "metadata": {},
     "output_type": "display_data"
    },
    {
     "data": {
      "image/png": "[encoded data removed]",
      "text/plain": [
       "<Figure size 1000x500 with 1 Axes>"
      ]
     },
     "metadata": {},
     "output_type": "display_data"
    },
    {
     "name": "stdout",
     "output_type": "stream",
     "text": [
      "Gráficos generados.\n"
     ]
    }
   ],
   "source": [
    "import numpy as np\n",
    "import torch\n",
    "import torch.nn as nn\n",
    "import torch.optim as optim\n",
    "from torch.utils.data import TensorDataset, DataLoader, random_split\n",
    "import math\n",
    "from tqdm.notebook import tqdm # O from tqdm import tqdm\n",
    "import os # Para guardar parámetros\n",
    "import matplotlib.pyplot as plt # <--- IMPORTAR MATPLOTLIB\n",
    "\n",
    "# --- Clases / Funciones que ASUMIMOS DEFINIDAS ANTERIORMENTE ---\n",
    "# from data_generation_mod import generate_raw_maxcut_data, standardize_data # Funciones modificadas\n",
    "# from model_mod import MaxCutAttentionModel # Modelo modificado con PE\n",
    "# from MAXCUT import MaxCutInstance, MaxCutState, MaxCutEnvironment\n",
    "# from Agents import ILS, FirstImprovementAgent, SingleAgentSolver, Perturbation\n",
    "# -------------------------------------------------------------\n",
    "\n",
    "# --- CONSTANTE ACTUALIZADA ---\n",
    "FEATURE_DIM = 11 # <--- ¡NUEVA DIMENSIÓN!\n",
    "\n",
    "# --- Configuración para generación de datos ---\n",
    "NUM_SAMPLES_TOTAL = 15000\n",
    "NUM_NODES_TRAIN = 30\n",
    "DENSITY_TRAIN = 0.8\n",
    "MIN_W_TRAIN = 10\n",
    "MAX_W_TRAIN = 20\n",
    "\n",
    "# --- Configuración ILS (sin cambios respecto a tu versión anterior) ---\n",
    "ils_env_gen = MaxCutEnvironment\n",
    "ils_ls_neighborhood = \"flip\"\n",
    "ils_ls_max_actions = 1500\n",
    "ils_ls_agent_gen = FirstImprovementAgent(neighborhood_type=ils_ls_neighborhood)\n",
    "ils_ls_solver_gen = SingleAgentSolver(ils_env_gen, ils_ls_agent_gen, max_actions=ils_ls_max_actions)\n",
    "ils_perturb_neighborhood = \"flip\"\n",
    "ils_perturb_size = max(4, int(NUM_NODES_TRAIN * 0.20))\n",
    "ils_perturb_gen = Perturbation(ils_env_gen, type=ils_perturb_neighborhood, pert_size=ils_perturb_size)\n",
    "ils_max_iterations_gen = 150\n",
    "ils_solver_generator = ILS(\n",
    "    local_search=ils_ls_solver_gen,\n",
    "    perturbation=ils_perturb_gen,\n",
    "    max_iterations=ils_max_iterations_gen\n",
    ")\n",
    "print(\"Configuración de ILS para generación de datos (Mejorada):\")\n",
    "print(f\"  - LS: FI con '{ils_ls_neighborhood}', max_actions={ils_ls_max_actions}\")\n",
    "print(f\"  - Perturbación: '{ils_perturb_neighborhood}', pert_size={ils_perturb_size}\")\n",
    "print(f\"  - ILS Iterations: {ils_max_iterations_gen}\")\n",
    "\n",
    "# --- Generación de Datos CRUDOS ---\n",
    "print(\"Generando datos crudos (sin normalizar)...\")\n",
    "X_np_raw, Y_np = generate_raw_maxcut_data(\n",
    "    num_samples=NUM_SAMPLES_TOTAL,\n",
    "    num_nodes=NUM_NODES_TRAIN,\n",
    "    ils_solver=ils_solver_generator,\n",
    "    density=DENSITY_TRAIN,\n",
    "    min_weight=MIN_W_TRAIN,\n",
    "    max_weight=MAX_W_TRAIN,\n",
    "    vertex_order_shuffle_seed=None,\n",
    ")\n",
    "if X_np_raw.shape[0] == 0:\n",
    "    print(\"Error: No se generaron datos.\")\n",
    "    exit()\n",
    "print(f\"Datos crudos generados: X shape={X_np_raw.shape}\")\n",
    "\n",
    "# --- Normalización (Estandarización) ---\n",
    "print(\"Aplicando estandarización Z-score...\")\n",
    "X_np_std, norm_params = standardize_data(X_np_raw)\n",
    "norm_params_file = 'normalization_parameters.npz'\n",
    "np.savez(norm_params_file, means=norm_params['means'], stds=norm_params['stds'])\n",
    "print(f\"Parámetros de normalización guardados en: {norm_params_file}\")\n",
    "\n",
    "# --- Convertir a tensores PyTorch ---\n",
    "X_tensor = torch.tensor(X_np_std, dtype=torch.float32)\n",
    "Y_tensor = torch.argmax(torch.tensor(Y_np, dtype=torch.float32), dim=1)\n",
    "print(f\"Datos listos para entrenamiento: X shape={X_tensor.shape}, Y shape={Y_tensor.shape}\")\n",
    "\n",
    "# --- División Train/Validation/Test ---\n",
    "dataset = TensorDataset(X_tensor, Y_tensor)\n",
    "total_size = len(dataset)\n",
    "train_size = int(0.7 * total_size)\n",
    "val_size = int(0.15 * total_size)\n",
    "test_size = total_size - train_size - val_size\n",
    "train_dataset, val_dataset, test_dataset = random_split(dataset, [train_size, val_size, test_size])\n",
    "print(f\"Tamaños: Train={len(train_dataset)}, Val={len(val_dataset)}, Test={len(test_dataset)}\")\n",
    "\n",
    "# --- DataLoaders ---\n",
    "BATCH_SIZE = 64\n",
    "train_loader = DataLoader(train_dataset, batch_size=BATCH_SIZE, shuffle=True)\n",
    "val_loader = DataLoader(val_dataset, batch_size=BATCH_SIZE, shuffle=False)\n",
    "test_loader = DataLoader(test_dataset, batch_size=BATCH_SIZE, shuffle=False)\n",
    "\n",
    "# --- Configuración del Entrenamiento ---\n",
    "learning_rate = 3e-4\n",
    "epochs = 50\n",
    "criterion = nn.CrossEntropyLoss()\n",
    "\n",
    "# --- Modelo (ASEGÚRATE QUE ESTÉ DEFINIDO E INSTANCIADO CORRECTAMENTE) ---\n",
    "device = torch.device(\"cuda\" if torch.cuda.is_available() else \"cpu\")\n",
    "# --- EJEMPLO de instanciación (DESCOMENTA Y AJUSTA) ---\n",
    "# model = MaxCutAttentionModel(\n",
    "#     input_dim=FEATURE_DIM, # FEATURE_DIM debe ser 11\n",
    "#     embed_dim=128,\n",
    "#     num_heads=8,\n",
    "#     num_layers=4,\n",
    "#     dim_feedforward=512,\n",
    "#     dropout_rate=0.1,\n",
    "#     max_seq_len=100 # Ajusta si N > 100\n",
    "# ).to(device)\n",
    "# print(f\"Modelo instanciado con input_dim={model.input_dim}\")\n",
    "# --- ASEGÚRATE QUE EL forward() USA ÍNDICE 4 PARA IsDecision ---\n",
    "# ----------------------------------------------------------------\n",
    "\n",
    "optimizer = optim.Adam(model.parameters(), lr=learning_rate, weight_decay=1e-5)\n",
    "\n",
    "# --- Bucle de Entrenamiento y Validación ---\n",
    "best_val_loss = float('inf')\n",
    "train_losses, val_losses = [], []\n",
    "train_accs, val_accs = [], []\n",
    "\n",
    "print(\"\\n--- Iniciando Entrenamiento ---\")\n",
    "for epoch in range(epochs):\n",
    "    # Entrenamiento (código sin cambios)\n",
    "    model.train()\n",
    "    running_loss = 0.0\n",
    "    correct_train = 0\n",
    "    total_train = 0\n",
    "    progress_bar_train = tqdm(train_loader, desc=f\"Epoch {epoch+1}/{epochs} [Train]\", leave=False)\n",
    "    for i, data in enumerate(progress_bar_train):\n",
    "        inputs, labels = data\n",
    "        inputs, labels = inputs.to(device), labels.to(device)\n",
    "        optimizer.zero_grad()\n",
    "        outputs = model(inputs)\n",
    "        loss = criterion(outputs, labels)\n",
    "        loss.backward()\n",
    "        optimizer.step()\n",
    "        running_loss += loss.item() * inputs.size(0)\n",
    "        _, predicted = torch.max(outputs.data, 1)\n",
    "        total_train += labels.size(0)\n",
    "        correct_train += (predicted == labels).sum().item()\n",
    "        progress_bar_train.set_postfix({'loss': running_loss / total_train, 'acc': 100. * correct_train / total_train})\n",
    "    epoch_train_loss = running_loss / len(train_loader.dataset)\n",
    "    epoch_train_acc = 100. * correct_train / total_train\n",
    "    train_losses.append(epoch_train_loss)\n",
    "    train_accs.append(epoch_train_acc)\n",
    "\n",
    "    # Validación (código sin cambios)\n",
    "    model.eval()\n",
    "    running_val_loss = 0.0\n",
    "    correct_val = 0\n",
    "    total_val = 0\n",
    "    progress_bar_val = tqdm(val_loader, desc=f\"Epoch {epoch+1}/{epochs} [Val]\", leave=False)\n",
    "    with torch.no_grad():\n",
    "        for data in progress_bar_val:\n",
    "            inputs, labels = data\n",
    "            inputs, labels = inputs.to(device), labels.to(device)\n",
    "            outputs = model(inputs)\n",
    "            loss = criterion(outputs, labels)\n",
    "            running_val_loss += loss.item() * inputs.size(0)\n",
    "            _, predicted = torch.max(outputs.data, 1)\n",
    "            total_val += labels.size(0)\n",
    "            correct_val += (predicted == labels).sum().item()\n",
    "            progress_bar_val.set_postfix({'val_loss': running_val_loss / total_val, 'val_acc': 100. * correct_val / total_val})\n",
    "    epoch_val_loss = running_val_loss / len(val_loader.dataset)\n",
    "    epoch_val_acc = 100. * correct_val / total_val\n",
    "    val_losses.append(epoch_val_loss)\n",
    "    val_accs.append(epoch_val_acc)\n",
    "\n",
    "    print(f\"Epoch {epoch+1}/{epochs} => \"\n",
    "          f\"Train Loss: {epoch_train_loss:.4f}, Train Acc: {epoch_train_acc:.2f}% | \"\n",
    "          f\"Val Loss: {epoch_val_loss:.4f}, Val Acc: {epoch_val_acc:.2f}%\")\n",
    "\n",
    "    # Guardar el mejor modelo (código sin cambios)\n",
    "    model_save_path = 'best_maxcut_attention_model_v2.pth'\n",
    "    if epoch_val_loss < best_val_loss:\n",
    "        best_val_loss = epoch_val_loss\n",
    "        torch.save(model.state_dict(), model_save_path)\n",
    "        print(f\"  => Modelo guardado en {model_save_path} (mejor val loss: {best_val_loss:.4f})\")\n",
    "\n",
    "print(\"\\n--- Entrenamiento Finalizado ---\")\n",
    "\n",
    "# --- **NUEVO:** Graficar Curvas de Entrenamiento ---\n",
    "print(\"Generando gráficos de entrenamiento...\")\n",
    "plt.style.use('seaborn-v0_8-darkgrid') # Estilo opcional\n",
    "\n",
    "# Crear vector de épocas para el eje X\n",
    "epoch_count = range(1, epochs + 1)\n",
    "\n",
    "# Gráfico 1: Pérdida (Loss)\n",
    "plt.figure(figsize=(10, 5))\n",
    "plt.plot(epoch_count, train_losses, 'r--', label='Pérdida Entrenamiento')\n",
    "plt.plot(epoch_count, val_losses, 'b-', label='Pérdida Validación')\n",
    "plt.legend()\n",
    "plt.xlabel('Época')\n",
    "plt.ylabel('Pérdida (Loss)')\n",
    "plt.title('Curvas de Pérdida durante el Entrenamiento')\n",
    "plt.grid(True)\n",
    "plt.show()\n",
    "\n",
    "# Gráfico 2: Exactitud (Accuracy)\n",
    "plt.figure(figsize=(10, 5))\n",
    "plt.plot(epoch_count, train_accs, 'r--', label='Accuracy Entrenamiento')\n",
    "plt.plot(epoch_count, val_accs, 'b-', label='Accuracy Validación')\n",
    "plt.legend()\n",
    "plt.xlabel('Época')\n",
    "plt.ylabel('Accuracy (%)')\n",
    "plt.title('Curvas de Accuracy durante el Entrenamiento')\n",
    "plt.grid(True)\n",
    "plt.show()\n",
    "\n",
    "print(\"Gráficos generados.\")\n",
    "# ----------------------------------------------------\n",
    "\n",
    "# Cargar el mejor modelo para evaluación (opcional, descomentar si se necesita)\n",
    "# model.load_state_dict(torch.load(model_save_path))\n",
    "# print(f\"Mejor modelo cargado desde {model_save_path} para evaluación.\")"
   ]
  },
  {
   "cell_type": "code",
   "execution_count": 7,
   "id": "66f836d5d9e2a794",
   "metadata": {
    "ExecuteTime": {
     "end_time": "2025-05-13T08:14:15.230981Z",
     "start_time": "2025-05-13T08:14:15.223142Z"
    }
   },
   "outputs": [],
   "source": [
    "class MaxCutModelEvalActions:\n",
    "    def __init__(self, modele, num_nodes, normalization_params_path=None, device='cpu'): # path ahora es opcional\n",
    "        self.model = modele\n",
    "        self.model.eval()\n",
    "        self.num_nodes = num_nodes\n",
    "        self.feature_dim = FEATURE_DIM\n",
    "        if hasattr(modele, 'input_dim') and modele.input_dim != self.feature_dim:\n",
    "            print(f\"Warning: Model input_dim ({modele.input_dim}) != FEATURE_DIM ({self.feature_dim})\")\n",
    "        self.device = device\n",
    "\n",
    "        self.apply_standardization = False # Por defecto no aplicar\n",
    "        if normalization_params_path: # Si se proporciona un path\n",
    "            try:\n",
    "                norm_data = np.load(normalization_params_path)\n",
    "                self.feature_means = torch.tensor(norm_data['means'], dtype=torch.float32).to(self.device)\n",
    "                self.feature_stds = torch.tensor(norm_data['stds'], dtype=torch.float32).to(self.device)\n",
    "                self.apply_standardization = True # Activar solo si se cargan los params\n",
    "                print(f\"Parámetros de normalización cargados desde {normalization_params_path}. Se aplicará Z-score.\")\n",
    "            except FileNotFoundError:\n",
    "                print(f\"Warning: Archivo de parámetros de normalización no encontrado en {normalization_params_path}\")\n",
    "                print(\"El modelo procederá con datos CRUDOS (sin estandarización Z-score).\")\n",
    "        else:\n",
    "            print(\"Warning: No se proporcionó path para parámetros de normalización.\")\n",
    "            print(\"El modelo procederá con datos CRUDOS (sin estandarización Z-score).\")\n",
    "            # Necesitamos definir feature_means y feature_stds igualmente para que el código no falle,\n",
    "            # pero no se usarán si apply_standardization es False.\n",
    "            # O, si se usaran, no tendrían efecto si son 0 y 1.\n",
    "            self.feature_means = torch.zeros(self.feature_dim).to(self.device)\n",
    "            self.feature_stds = torch.ones(self.feature_dim).to(self.device)\n",
    "\n",
    "\n",
    "        self._cached_static_features = None\n",
    "        self._cached_instance_hash = None\n",
    "\n",
    "    def _get_or_compute_static_features(self, instance):\n",
    "        current_hash = hash(instance.weights_matrix.tobytes())\n",
    "        if current_hash != self._cached_instance_hash:\n",
    "            degrees, sum_incident_weights, _ = calculate_static_features(instance)\n",
    "            self._cached_static_features = (degrees, sum_incident_weights)\n",
    "            self._cached_instance_hash = current_hash\n",
    "        return self._cached_static_features\n",
    "\n",
    "    def _state_to_raw_features(self, state, k_idx, static_degrees, static_sum_incident):\n",
    "        instance = state.inst_info\n",
    "        current_partition = state.partition\n",
    "        n_nodes_actual = instance.num_nodes\n",
    "        if self.num_nodes != n_nodes_actual:\n",
    "             raise ValueError(f\"Inconsistencia en num_nodes: evaluador espera {self.num_nodes}, instancia tiene {n_nodes_actual}\")\n",
    "        raw_feature_matrix = np.zeros((n_nodes_actual, self.feature_dim), dtype=np.float32)\n",
    "        degrees = static_degrees\n",
    "        sum_incident_weights = static_sum_incident\n",
    "        for i_node in range(n_nodes_actual):\n",
    "            sum_to_v1, sum_to_v2, sum_to_unassigned = calculate_dynamic_features(\n",
    "                i_node, current_partition, instance\n",
    "            )\n",
    "            assign_state = current_partition[i_node]\n",
    "            assign_is_unassigned = 1.0 if assign_state == -1 else 0.0\n",
    "            assign_is_v2 = 1.0 if assign_state == 0 else 0.0\n",
    "            assign_is_v1 = 1.0 if assign_state == 1 else 0.0\n",
    "            is_decision_node = 1.0 if i_node == k_idx else 0.0\n",
    "            local_cut_gain_v1 = sum_to_v2 - sum_to_v1\n",
    "            raw_features = [\n",
    "                float(i_node), assign_is_unassigned, assign_is_v2, assign_is_v1,\n",
    "                is_decision_node, float(degrees[i_node]), sum_incident_weights[i_node],\n",
    "                sum_to_v1, sum_to_v2, sum_to_unassigned, local_cut_gain_v1\n",
    "            ]\n",
    "            if len(raw_features) != self.feature_dim:\n",
    "                raise ValueError(f\"Feature vector length mismatch: expected {self.feature_dim}, got {len(raw_features)} for node {i_node}\")\n",
    "            raw_feature_matrix[i_node, :] = raw_features\n",
    "        return raw_feature_matrix\n",
    "\n",
    "    def __call__(self, state, env):\n",
    "        if state.is_complete: return []\n",
    "        try: k_idx = state.partition.index(-1)\n",
    "        except ValueError: return []\n",
    "        instance = state.inst_info\n",
    "        static_degrees, static_sum_incident = self._get_or_compute_static_features(instance)\n",
    "        raw_feature_matrix = self._state_to_raw_features(state, k_idx, static_degrees, static_sum_incident)\n",
    "\n",
    "        X_tensor_for_model = torch.tensor(raw_feature_matrix, dtype=torch.float32).to(self.device)\n",
    "\n",
    "        if self.apply_standardization: # Aplicar Z-score solo si los parámetros se cargaron\n",
    "            X_tensor_for_model = (X_tensor_for_model - self.feature_means) / self.feature_stds\n",
    "\n",
    "        X_input = X_tensor_for_model.unsqueeze(0)\n",
    "        with torch.no_grad():\n",
    "            logits = self.model(X_input)\n",
    "            probabilities = F.softmax(logits, dim=1).squeeze(0)\n",
    "        action_v1 = (\"constructive\", k_idx, 1)\n",
    "        action_v2 = (\"constructive\", k_idx, 0)\n",
    "        evals = [\n",
    "            (action_v1, probabilities[0].item()),\n",
    "            (action_v2, probabilities[1].item())\n",
    "        ]\n",
    "        return evals"
   ]
  },
  {
   "cell_type": "code",
   "execution_count": 8,
   "id": "bbb7ff863d290678",
   "metadata": {
    "ExecuteTime": {
     "end_time": "2025-05-13T08:14:57.194298Z",
     "start_time": "2025-05-13T08:14:15.304352Z"
    }
   },
   "outputs": [
    {
     "name": "stdout",
     "output_type": "stream",
     "text": [
      "\n",
      "--- Comparando Estrategias (Simplificado) ---\n",
      "Probando tamaños: [10, 20, 30, 40, 50]\n",
      "Instancias por tamaño: 30\n",
      "Usando parámetros de normalización de: normalization_parameters.npz\n",
      "Comparando: Heur-G, Mod-G, ILS\n",
      "----------------------------------------------------\n",
      "\n",
      "--- Evaluando tamaño N = 10 ---\n",
      "Parámetros de normalización cargados desde normalization_parameters.npz. Se aplicará Z-score.\n"
     ]
    },
    {
     "data": {
      "application/vnd.jupyter.widget-view+json": {
       "model_id": "61a947b7b5d6466a8597a27377d8150b",
       "version_major": 2,
       "version_minor": 0
      },
      "text/plain": [
       "Instancias N=10:   0%|          | 0/30 [00:00<?, ?it/s]"
      ]
     },
     "metadata": {},
     "output_type": "display_data"
    },
    {
     "name": "stdout",
     "output_type": "stream",
     "text": [
      "\n",
      "--- Evaluando tamaño N = 20 ---\n",
      "Parámetros de normalización cargados desde normalization_parameters.npz. Se aplicará Z-score.\n"
     ]
    },
    {
     "data": {
      "application/vnd.jupyter.widget-view+json": {
       "model_id": "81b230b5213b44be819fc18fcbff4916",
       "version_major": 2,
       "version_minor": 0
      },
      "text/plain": [
       "Instancias N=20:   0%|          | 0/30 [00:00<?, ?it/s]"
      ]
     },
     "metadata": {},
     "output_type": "display_data"
    },
    {
     "name": "stdout",
     "output_type": "stream",
     "text": [
      "\n",
      "--- Evaluando tamaño N = 30 ---\n",
      "Parámetros de normalización cargados desde normalization_parameters.npz. Se aplicará Z-score.\n"
     ]
    },
    {
     "data": {
      "application/vnd.jupyter.widget-view+json": {
       "model_id": "b1e7dfb659914634af89b64daab0048c",
       "version_major": 2,
       "version_minor": 0
      },
      "text/plain": [
       "Instancias N=30:   0%|          | 0/30 [00:00<?, ?it/s]"
      ]
     },
     "metadata": {},
     "output_type": "display_data"
    },
    {
     "name": "stdout",
     "output_type": "stream",
     "text": [
      "\n",
      "--- Evaluando tamaño N = 40 ---\n",
      "Parámetros de normalización cargados desde normalization_parameters.npz. Se aplicará Z-score.\n"
     ]
    },
    {
     "data": {
      "application/vnd.jupyter.widget-view+json": {
       "model_id": "b134dfc302ef49d0ab614aeac27c3024",
       "version_major": 2,
       "version_minor": 0
      },
      "text/plain": [
       "Instancias N=40:   0%|          | 0/30 [00:00<?, ?it/s]"
      ]
     },
     "metadata": {},
     "output_type": "display_data"
    },
    {
     "name": "stdout",
     "output_type": "stream",
     "text": [
      "\n",
      "--- Evaluando tamaño N = 50 ---\n",
      "Parámetros de normalización cargados desde normalization_parameters.npz. Se aplicará Z-score.\n"
     ]
    },
    {
     "data": {
      "application/vnd.jupyter.widget-view+json": {
       "model_id": "e78a32754c0b43b8a59147a2c89b67e8",
       "version_major": 2,
       "version_minor": 0
      },
      "text/plain": [
       "Instancias N=50:   0%|          | 0/30 [00:00<?, ?it/s]"
      ]
     },
     "metadata": {},
     "output_type": "display_data"
    },
    {
     "name": "stdout",
     "output_type": "stream",
     "text": [
      "\n",
      "--- Resultados Detallados (Primeras 5 Filas) ---\n",
      "  instance_id  num_nodes  heur_g_cut  heur_g_time  model_g_cut  model_g_time     ils_cut  ils_time\n",
      "0      N10-i1         10  153.709842     0.000967          0.0      0.024879  156.440437  0.017668\n",
      "1      N10-i2         10  140.906429     0.000903          0.0      0.014696  140.906429  0.017780\n",
      "2      N10-i3         10  150.657688     0.000948          0.0      0.014884  153.594216  0.015744\n",
      "3      N10-i4         10  163.250499     0.000913          0.0      0.015634  167.370372  0.018281\n",
      "4      N10-i5         10  153.437504     0.000926          0.0      0.014690  154.909147  0.018510\n",
      "\n",
      "--- Resultados Promedio por Tamaño de Instancia ---\n",
      "   num_nodes  heur_g_cut  heur_g_time  model_g_cut  model_g_time  ils_cut  ils_time\n",
      "0         10      154.81         0.00         0.00          0.02   157.61      0.02\n",
      "1         20      603.71         0.01       450.94          0.09   615.84      0.06\n",
      "2         30     1330.58         0.03      1306.04          0.08  1356.11      0.14\n",
      "3         40     2359.88         0.08      2301.95          0.10  2391.94      0.25\n",
      "4         50     3643.19         0.18       940.80          0.14  3694.86      0.44\n",
      "\n",
      "--- Generando Gráficos ---\n"
     ]
    },
    {
     "data": {
      "image/png": "[encoded data removed]",
      "text/plain": [
       "<Figure size 1200x700 with 1 Axes>"
      ]
     },
     "metadata": {},
     "output_type": "display_data"
    },
    {
     "data": {
      "image/png": "[encoded data removed]",
      "text/plain": [
       "<Figure size 1200x700 with 1 Axes>"
      ]
     },
     "metadata": {},
     "output_type": "display_data"
    }
   ],
   "source": [
    "from Agents import GreedyAgent, evalConstructiveActions\n",
    "from copy import deepcopy # Importar deepcopy\n",
    "# Tus otros imports (GreedyAgent, evalConstructiveActions, StochasticAgent - aunque no se use ahora, etc.)\n",
    "import random\n",
    "import time\n",
    "import numpy as np\n",
    "import pandas as pd\n",
    "import torch\n",
    "import torch.nn.functional as F\n",
    "from tqdm.notebook import tqdm\n",
    "import matplotlib.pyplot as plt\n",
    "import seaborn as sns\n",
    "import os\n",
    "\n",
    "# --- ASUMIMOS QUE ESTAS CLASES Y VARIABLES ESTÁN DEFINIDAS ---\n",
    "# MaxCutEnvironment, MaxCutInstance, MaxCutState, generate_random_instance\n",
    "# evalConstructiveActions, GreedyAgent, StochasticAgent, FirstImprovementAgent, SingleAgentSolver, ILS\n",
    "# ils_solver_generator (configurado)\n",
    "# model (modelo de PyTorch entrenado y cargado)\n",
    "# device (torch.device)\n",
    "# MaxCutModelEvalActions (tu clase evaluadora para el modelo)\n",
    "# calculate_static_features, calculate_dynamic_features (si son necesarias para MaxCutModelEvalActions)\n",
    "# ---------------------------------------------------------------\n",
    "\n",
    "FEATURE_DIM = 11\n",
    "NORM_PARAMS_PATH = 'normalization_parameters.npz'\n",
    "DENSITY_TRAIN = 0.8 # Asegúrate que estos parámetros coincidan con algo representativo\n",
    "MIN_W_TRAIN = 10\n",
    "MAX_W_TRAIN = 20\n",
    "\n",
    "env = MaxCutEnvironment()\n",
    "INSTANCE_SIZES = [10, 20, 30, 40, 50]\n",
    "NUM_TEST_INSTANCES_PER_SIZE = 30 # Puedes aumentar esto si quieres resultados más robustos\n",
    "results_comparison = []\n",
    "\n",
    "# --- Agentes y Solvers ---\n",
    "agent_heuristic_greedy = GreedyAgent(evalConstructiveActions)\n",
    "# Ya no necesitamos local_search_solver_for_refinement en esta versión simplificada\n",
    "\n",
    "if not os.path.exists(NORM_PARAMS_PATH):\n",
    "    print(f\"ERROR: No se encontró el archivo de parámetros de normalización en {NORM_PARAMS_PATH}\")\n",
    "    exit()\n",
    "\n",
    "print(\"\\n--- Comparando Estrategias (Simplificado) ---\")\n",
    "print(f\"Probando tamaños: {INSTANCE_SIZES}\")\n",
    "print(f\"Instancias por tamaño: {NUM_TEST_INSTANCES_PER_SIZE}\")\n",
    "print(f\"Usando parámetros de normalización de: {NORM_PARAMS_PATH}\")\n",
    "print(\"Comparando: Heur-G, Mod-G, ILS\") # Estrategias actualizadas\n",
    "print(\"----------------------------------------------------\")\n",
    "\n",
    "for n_nodes_test in INSTANCE_SIZES:\n",
    "    print(f\"\\n--- Evaluando tamaño N = {n_nodes_test} ---\")\n",
    "\n",
    "    model_evaluator = MaxCutModelEvalActions(\n",
    "        modele=model, num_nodes=n_nodes_test,\n",
    "        normalization_params_path=NORM_PARAMS_PATH, device=device\n",
    "    )\n",
    "    agent_model_greedy = GreedyAgent(model_evaluator) # Modelo Determinista Greedy\n",
    "    # agent_model_stochastic ya no se usa aquí\n",
    "\n",
    "    for i in tqdm(range(NUM_TEST_INSTANCES_PER_SIZE), desc=f\"Instancias N={n_nodes_test}\", leave=False):\n",
    "        weights_test = generate_random_instance(n_nodes_test, DENSITY_TRAIN, MIN_W_TRAIN, MAX_W_TRAIN)\n",
    "        instance_test = MaxCutInstance(weights_test)\n",
    "        instance_results = {'instance_id': f\"N{n_nodes_test}-i{i+1}\", 'num_nodes': n_nodes_test}\n",
    "\n",
    "        # --- 1. Greedy Heurístico ---\n",
    "        current_state_heur_g = MaxCutState(instance_test)\n",
    "        start_time = time.time()\n",
    "        try:\n",
    "            # Usamos un SingleAgentSolver para encapsular el bucle constructivo\n",
    "            solver_heur_g = SingleAgentSolver(env, agent_heuristic_greedy, max_actions=n_nodes_test + 5) # max_actions = N es suficiente\n",
    "            solution_heur_g = solver_heur_g.solve(current_state_heur_g)\n",
    "            instance_results['heur_g_cut'] = solution_heur_g.cut_value\n",
    "        except Exception as e: print(f\"Err Heur-G ({instance_results['instance_id']}): {e}\"); instance_results['heur_g_cut'] = -1\n",
    "        instance_results['heur_g_time'] = time.time() - start_time\n",
    "\n",
    "        # --- 2. Modelo Greedy (Determinista) ---\n",
    "        current_state_model_g = MaxCutState(instance_test)\n",
    "        start_time = time.time()\n",
    "        try:\n",
    "            solver_model_g = SingleAgentSolver(env, agent_model_greedy, max_actions=n_nodes_test + 5)\n",
    "            solution_model_g = solver_model_g.solve(current_state_model_g)\n",
    "            instance_results['model_g_cut'] = solution_model_g.cut_value\n",
    "        except Exception as e: print(f\"Err Mod-G ({instance_results['instance_id']}): {e}\"); instance_results['model_g_cut'] = -1\n",
    "        instance_results['model_g_time'] = time.time() - start_time\n",
    "\n",
    "        # --- 3. ILS (Benchmark Experto) ---\n",
    "        # (Mantenido para referencia, puedes comentarlo si quieres una comparación estrictamente de los dos primeros)\n",
    "        initial_partition_ils = [random.choice([0, 1]) for _ in range(n_nodes_test)]\n",
    "        initial_state_ils = MaxCutState(instance_test, partition=initial_partition_ils)\n",
    "        start_time = time.time()\n",
    "        try:\n",
    "            final_state_ils = ils_solver_generator.solve(initial_state_ils)\n",
    "            instance_results['ils_cut'] = final_state_ils.cut_value\n",
    "        except Exception as e: print(f\"Err ILS ({instance_results['instance_id']}): {e}\"); instance_results['ils_cut'] = -1\n",
    "        instance_results['ils_time'] = time.time() - start_time\n",
    "\n",
    "        results_comparison.append(instance_results)\n",
    "\n",
    "# --- Procesar y Mostrar Resultados ---\n",
    "if results_comparison:\n",
    "    comparison_df = pd.DataFrame(results_comparison)\n",
    "    comparison_df.replace(-1, np.nan, inplace=True) # Reemplazar errores con NaN para que mean() los ignore\n",
    "\n",
    "    print(\"\\n--- Resultados Detallados (Primeras 5 Filas) ---\")\n",
    "    print(comparison_df.head().to_string())\n",
    "\n",
    "    print(\"\\n--- Resultados Promedio por Tamaño de Instancia ---\")\n",
    "    numeric_cols = comparison_df.select_dtypes(include=np.number).columns\n",
    "    cols_to_average = [col for col in numeric_cols if col != 'num_nodes']\n",
    "    avg_results = comparison_df.groupby('num_nodes')[cols_to_average].mean()\n",
    "    avg_results_to_print = avg_results.reset_index()\n",
    "\n",
    "    cols_order = ['num_nodes',\n",
    "                  'heur_g_cut', 'heur_g_time',\n",
    "                  'model_g_cut', 'model_g_time',\n",
    "                  'ils_cut', 'ils_time'] # Columnas actualizadas\n",
    "\n",
    "    cols_to_print = [col for col in cols_order if col in avg_results_to_print.columns]\n",
    "    print(avg_results_to_print[cols_to_print].to_string(float_format=\"%.2f\"))\n",
    "\n",
    "    # --- Graficación ---\n",
    "    print(\"\\n--- Generando Gráficos ---\")\n",
    "    plt.style.use('seaborn-v0_8-darkgrid')\n",
    "    instance_sizes_plot = sorted(comparison_df['num_nodes'].unique())\n",
    "\n",
    "    # 1. Gráfico de Calidad (Cut Value)\n",
    "    plt.figure(figsize=(12, 7))\n",
    "    sns.lineplot(data=comparison_df, x='num_nodes', y='heur_g_cut', label='Heur-G (Constr.)', marker='s', errorbar='sd')\n",
    "    sns.lineplot(data=comparison_df, x='num_nodes', y='model_g_cut', label='Mod-G (Constr.)', marker='o', errorbar='sd')\n",
    "    sns.lineplot(data=comparison_df, x='num_nodes', y='ils_cut', label='ILS (Experto)', marker='P', markersize=10, linestyle='--', errorbar='sd')\n",
    "\n",
    "    plt.xlabel(\"Número de Nodos (N)\")\n",
    "    plt.ylabel(\"Valor Promedio del Corte (Cut Value)\")\n",
    "    plt.title(\"Comparación de Calidad (Greedy vs Modelo vs ILS)\")\n",
    "    plt.xticks(instance_sizes_plot)\n",
    "    plt.legend(loc='lower right')\n",
    "    plt.grid(True, which=\"both\", ls=\"-\")\n",
    "    plt.tight_layout()\n",
    "    plt.show()\n",
    "\n",
    "    # 2. Gráfico de Tiempo de Ejecución\n",
    "    plt.figure(figsize=(12, 7))\n",
    "    sns.lineplot(data=comparison_df, x='num_nodes', y='heur_g_time', label='Heur-G (Constr.)', marker='s', errorbar='sd')\n",
    "    sns.lineplot(data=comparison_df, x='num_nodes', y='model_g_time', label='Mod-G (Constr.)', marker='o', errorbar='sd')\n",
    "    sns.lineplot(data=comparison_df, x='num_nodes', y='ils_time', label='ILS (Experto)', marker='P', markersize=10, linestyle='--', errorbar='sd')\n",
    "\n",
    "    plt.xlabel(\"Número de Nodos (N)\")\n",
    "    plt.ylabel(\"Tiempo Promedio de Ejecución (segundos)\")\n",
    "    plt.title(\"Comparación de Tiempos (Greedy vs Modelo vs ILS)\")\n",
    "    plt.xticks(instance_sizes_plot)\n",
    "    plt.yscale('log')\n",
    "    plt.legend(loc='upper left')\n",
    "    plt.grid(True, which=\"both\", ls=\"-\")\n",
    "    plt.tight_layout()\n",
    "    plt.show()\n",
    "else:\n",
    "    print(\"No se generaron resultados para mostrar.\")"
   ]
  }
 ],
 "metadata": {
  "kernelspec": {
   "display_name": "main-env",
   "language": "python",
   "name": "python3"
  },
  "language_info": {
   "codemirror_mode": {
    "name": "ipython",
    "version": 3
   },
   "file_extension": ".py",
   "mimetype": "text/x-python",
   "name": "python",
   "nbconvert_exporter": "python",
   "pygments_lexer": "ipython3",
   "version": "3.12.3"
  }
 },
 "nbformat": 4,
 "nbformat_minor": 5
}
